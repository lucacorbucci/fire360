{
 "cells": [
  {
   "cell_type": "code",
   "execution_count": 9,
   "metadata": {},
   "outputs": [],
   "source": [
    "import wandb \n",
    "import dill\n",
    "import pandas as pd\n",
    "import os "
   ]
  },
  {
   "cell_type": "code",
   "execution_count": 10,
   "metadata": {},
   "outputs": [],
   "source": [
    "def download_runs(project_name):\n",
    "    if not os.path.exists(\n",
    "        f\"./results_data/data_{project_name}.pkl\"\n",
    "    ):\n",
    "        project_details = wandb.Api().runs(f\"lucacorbucci/{project_name}\")\n",
    "        project_data = {}\n",
    "        for run in project_details:\n",
    "            print(\"Downloading run \", run.id)\n",
    "            run_df = pd.DataFrame(\n",
    "                wandb.Api().run(f\"lucacorbucci/{project_name}/{run.id}\").scan_history()\n",
    "            )\n",
    "            if run.name not in project_data:\n",
    "                project_data[run.name] = []\n",
    "            project_data[run.name].append(run_df)\n",
    "        with open(\n",
    "            f\"./results_data/data_{project_name}.pkl\", \"wb\"\n",
    "        ) as f:\n",
    "            dill.dump(project_data, f)\n",
    "    else:\n",
    "        with open(\n",
    "            f\"./results_data/data_{project_name}.pkl\", \"rb\"\n",
    "        ) as f:\n",
    "            project_data = dill.load(f)\n",
    "    return project_data"
   ]
  },
  {
   "cell_type": "markdown",
   "metadata": {},
   "source": [
    "# Explanation Metrics"
   ]
  },
  {
   "cell_type": "code",
   "execution_count": 11,
   "metadata": {},
   "outputs": [],
   "source": [
    "project_data = download_runs(project_name=\"tango_explanation_metrics\")\n",
    "project_name = \"tango_explanation_metrics\""
   ]
  },
  {
   "cell_type": "code",
   "execution_count": 17,
   "metadata": {},
   "outputs": [],
   "source": [
    "methods = [\"dt\", \"svm\", \"logistic\"]\n",
    "datasets = [\"dutch\", \"adult\", \"letter\"]"
   ]
  },
  {
   "cell_type": "code",
   "execution_count": 36,
   "metadata": {},
   "outputs": [
    {
     "data": {
      "text/plain": [
       "0    0.04187\n",
       "Name: faithfulness, dtype: float64"
      ]
     },
     "execution_count": 36,
     "metadata": {},
     "output_type": "execute_result"
    }
   ],
   "source": [
    "project_data[\"logistic_dutch\"][0][\"faithfulness\"]"
   ]
  },
  {
   "cell_type": "code",
   "execution_count": 73,
   "metadata": {},
   "outputs": [
    {
     "name": "stderr",
     "output_type": "stream",
     "text": [
      "/tmp/ipykernel_1730633/2095755667.py:12: FutureWarning: Calling float on a single element Series is deprecated and will raise a TypeError in the future. Use float(ser.iloc[0]) instead\n",
      "  robustness = round(float(results[\"robustness\"]), 2)\n",
      "/tmp/ipykernel_1730633/2095755667.py:13: FutureWarning: Calling float on a single element Series is deprecated and will raise a TypeError in the future. Use float(ser.iloc[0]) instead\n",
      "  robustness_std = round(float(results[\"robustness_std\"]), 2)\n",
      "/tmp/ipykernel_1730633/2095755667.py:14: FutureWarning: Calling float on a single element Series is deprecated and will raise a TypeError in the future. Use float(ser.iloc[0]) instead\n",
      "  stability = round(float(results[\"stability\"]), 2)\n",
      "/tmp/ipykernel_1730633/2095755667.py:15: FutureWarning: Calling float on a single element Series is deprecated and will raise a TypeError in the future. Use float(ser.iloc[0]) instead\n",
      "  stability_std = round(float(results[\"stability_std\"]), 2)\n",
      "/tmp/ipykernel_1730633/2095755667.py:9: FutureWarning: Calling float on a single element Series is deprecated and will raise a TypeError in the future. Use float(ser.iloc[0]) instead\n",
      "  faithfulness = round(float(results[\"faithfulness\"]), 2)\n",
      "/tmp/ipykernel_1730633/2095755667.py:10: FutureWarning: Calling float on a single element Series is deprecated and will raise a TypeError in the future. Use float(ser.iloc[0]) instead\n",
      "  faithfulness_std = round(float(results[\"faithfulness_std\"]), 2)\n"
     ]
    }
   ],
   "source": [
    "metrics = {}\n",
    "\n",
    "for dataset in datasets:\n",
    "    metrics[dataset] = {}   \n",
    "    for method in methods: \n",
    "        metrics[dataset][method] = {}\n",
    "        results = project_data[f\"{method}_{dataset}\"][0]\n",
    "        if \"faithfulness\" in results.columns:\n",
    "            faithfulness = round(float(results[\"faithfulness\"]), 2)\n",
    "            faithfulness_std = round(float(results[\"faithfulness_std\"]), 2)\n",
    "            metrics[dataset][method][\"Faithfulness\"] = f\"{faithfulness} $\\pm$ {faithfulness_std}\"\n",
    "        robustness = round(float(results[\"robustness\"]), 2)\n",
    "        robustness_std = round(float(results[\"robustness_std\"]), 2)\n",
    "        stability = round(float(results[\"stability\"]), 2)\n",
    "        stability_std = round(float(results[\"stability_std\"]), 2)\n",
    "        metrics[dataset][method][\"robustness\"] = f\"{robustness} $\\pm$ {robustness_std}\"\n",
    "        metrics[dataset][method][\"stability\"] = f\"{stability} $\\pm$ {stability_std}\""
   ]
  },
  {
   "cell_type": "code",
   "execution_count": 74,
   "metadata": {},
   "outputs": [
    {
     "data": {
      "text/html": [
       "<div>\n",
       "<style scoped>\n",
       "    .dataframe tbody tr th:only-of-type {\n",
       "        vertical-align: middle;\n",
       "    }\n",
       "\n",
       "    .dataframe tbody tr th {\n",
       "        vertical-align: top;\n",
       "    }\n",
       "\n",
       "    .dataframe thead th {\n",
       "        text-align: right;\n",
       "    }\n",
       "</style>\n",
       "<table border=\"1\" class=\"dataframe\">\n",
       "  <thead>\n",
       "    <tr style=\"text-align: right;\">\n",
       "      <th></th>\n",
       "      <th>Dataset</th>\n",
       "      <th>Method</th>\n",
       "      <th>Stability</th>\n",
       "      <th>Robustness</th>\n",
       "      <th>Faithfulness</th>\n",
       "    </tr>\n",
       "  </thead>\n",
       "  <tbody>\n",
       "    <tr>\n",
       "      <th>0</th>\n",
       "      <td>dutch</td>\n",
       "      <td>dt</td>\n",
       "      <td>0.97 $\\pm$ 0.1</td>\n",
       "      <td>0.42 $\\pm$ 0.2</td>\n",
       "      <td>-</td>\n",
       "    </tr>\n",
       "    <tr>\n",
       "      <th>1</th>\n",
       "      <td>dutch</td>\n",
       "      <td>svm</td>\n",
       "      <td>0.84 $\\pm$ 0.26</td>\n",
       "      <td>0.17 $\\pm$ 0.08</td>\n",
       "      <td>0.02 $\\pm$ 0.34</td>\n",
       "    </tr>\n",
       "    <tr>\n",
       "      <th>2</th>\n",
       "      <td>dutch</td>\n",
       "      <td>logistic</td>\n",
       "      <td>0.91 $\\pm$ 0.2</td>\n",
       "      <td>0.17 $\\pm$ 0.09</td>\n",
       "      <td>0.04 $\\pm$ 0.31</td>\n",
       "    </tr>\n",
       "    <tr>\n",
       "      <th>3</th>\n",
       "      <td>adult</td>\n",
       "      <td>dt</td>\n",
       "      <td>0.64 $\\pm$ 0.45</td>\n",
       "      <td>0.27 $\\pm$ 0.26</td>\n",
       "      <td>-</td>\n",
       "    </tr>\n",
       "    <tr>\n",
       "      <th>4</th>\n",
       "      <td>adult</td>\n",
       "      <td>svm</td>\n",
       "      <td>0.85 $\\pm$ 0.26</td>\n",
       "      <td>0.26 $\\pm$ 0.11</td>\n",
       "      <td>0.01 $\\pm$ 0.12</td>\n",
       "    </tr>\n",
       "    <tr>\n",
       "      <th>5</th>\n",
       "      <td>adult</td>\n",
       "      <td>logistic</td>\n",
       "      <td>0.41 $\\pm$ 0.29</td>\n",
       "      <td>0.11 $\\pm$ 0.07</td>\n",
       "      <td>-0.03 $\\pm$ 0.21</td>\n",
       "    </tr>\n",
       "    <tr>\n",
       "      <th>6</th>\n",
       "      <td>letter</td>\n",
       "      <td>dt</td>\n",
       "      <td>0.93 $\\pm$ 0.15</td>\n",
       "      <td>0.39 $\\pm$ 0.15</td>\n",
       "      <td>-</td>\n",
       "    </tr>\n",
       "    <tr>\n",
       "      <th>7</th>\n",
       "      <td>letter</td>\n",
       "      <td>svm</td>\n",
       "      <td>0.84 $\\pm$ 0.31</td>\n",
       "      <td>0.07 $\\pm$ 0.04</td>\n",
       "      <td>0.03 $\\pm$ 0.22</td>\n",
       "    </tr>\n",
       "    <tr>\n",
       "      <th>8</th>\n",
       "      <td>letter</td>\n",
       "      <td>logistic</td>\n",
       "      <td>0.65 $\\pm$ 0.32</td>\n",
       "      <td>0.07 $\\pm$ 0.04</td>\n",
       "      <td>0.01 $\\pm$ 0.19</td>\n",
       "    </tr>\n",
       "  </tbody>\n",
       "</table>\n",
       "</div>"
      ],
      "text/plain": [
       "  Dataset    Method        Stability       Robustness      Faithfulness\n",
       "0   dutch        dt   0.97 $\\pm$ 0.1   0.42 $\\pm$ 0.2                 -\n",
       "1   dutch       svm  0.84 $\\pm$ 0.26  0.17 $\\pm$ 0.08   0.02 $\\pm$ 0.34\n",
       "2   dutch  logistic   0.91 $\\pm$ 0.2  0.17 $\\pm$ 0.09   0.04 $\\pm$ 0.31\n",
       "3   adult        dt  0.64 $\\pm$ 0.45  0.27 $\\pm$ 0.26                 -\n",
       "4   adult       svm  0.85 $\\pm$ 0.26  0.26 $\\pm$ 0.11   0.01 $\\pm$ 0.12\n",
       "5   adult  logistic  0.41 $\\pm$ 0.29  0.11 $\\pm$ 0.07  -0.03 $\\pm$ 0.21\n",
       "6  letter        dt  0.93 $\\pm$ 0.15  0.39 $\\pm$ 0.15                 -\n",
       "7  letter       svm  0.84 $\\pm$ 0.31  0.07 $\\pm$ 0.04   0.03 $\\pm$ 0.22\n",
       "8  letter  logistic  0.65 $\\pm$ 0.32  0.07 $\\pm$ 0.04   0.01 $\\pm$ 0.19"
      ]
     },
     "execution_count": 74,
     "metadata": {},
     "output_type": "execute_result"
    }
   ],
   "source": [
    "import pandas as pd\n",
    "\n",
    "# Initialize an empty list to store the rows\n",
    "rows = []\n",
    "\n",
    "# Iterate over the datasets and methods to extract the metrics\n",
    "for dataset in datasets:\n",
    "    for method in methods:\n",
    "        row = {\n",
    "            'Dataset': dataset,\n",
    "            'Method': method,\n",
    "            'Stability': metrics[dataset][method].get('stability', '-'),\n",
    "            'Robustness': metrics[dataset][method].get('robustness', '-'),\n",
    "            'Faithfulness': metrics[dataset][method].get('Faithfulness', '-')\n",
    "        }\n",
    "        rows.append(row)\n",
    "\n",
    "# Create a dataframe from the rows\n",
    "df_metrics = pd.DataFrame(rows)\n",
    "df_metrics.head(9)"
   ]
  },
  {
   "cell_type": "code",
   "execution_count": 76,
   "metadata": {},
   "outputs": [
    {
     "name": "stdout",
     "output_type": "stream",
     "text": [
      "\\begin{tabular}{llllll}\n",
      "\\toprule\n",
      " & Dataset & Method & Stability & Robustness & Faithfulness \\\\\n",
      "\\midrule\n",
      "0 & dutch & dt & 0.97 $\\pm$ 0.1 & 0.42 $\\pm$ 0.2 & - \\\\\n",
      "1 & dutch & svm & 0.84 $\\pm$ 0.26 & 0.17 $\\pm$ 0.08 & 0.02 $\\pm$ 0.34 \\\\\n",
      "2 & dutch & logistic & 0.91 $\\pm$ 0.2 & 0.17 $\\pm$ 0.09 & 0.04 $\\pm$ 0.31 \\\\\n",
      "3 & adult & dt & 0.64 $\\pm$ 0.45 & 0.27 $\\pm$ 0.26 & - \\\\\n",
      "4 & adult & svm & 0.85 $\\pm$ 0.26 & 0.26 $\\pm$ 0.11 & 0.01 $\\pm$ 0.12 \\\\\n",
      "5 & adult & logistic & 0.41 $\\pm$ 0.29 & 0.11 $\\pm$ 0.07 & -0.03 $\\pm$ 0.21 \\\\\n",
      "6 & letter & dt & 0.93 $\\pm$ 0.15 & 0.39 $\\pm$ 0.15 & - \\\\\n",
      "7 & letter & svm & 0.84 $\\pm$ 0.31 & 0.07 $\\pm$ 0.04 & 0.03 $\\pm$ 0.22 \\\\\n",
      "8 & letter & logistic & 0.65 $\\pm$ 0.32 & 0.07 $\\pm$ 0.04 & 0.01 $\\pm$ 0.19 \\\\\n",
      "\\bottomrule\n",
      "\\end{tabular}\n",
      "\n"
     ]
    }
   ],
   "source": [
    "print(df_metrics.to_latex())"
   ]
  }
 ],
 "metadata": {
  "kernelspec": {
   "display_name": ".venv",
   "language": "python",
   "name": "python3"
  },
  "language_info": {
   "codemirror_mode": {
    "name": "ipython",
    "version": 3
   },
   "file_extension": ".py",
   "mimetype": "text/x-python",
   "name": "python",
   "nbconvert_exporter": "python",
   "pygments_lexer": "ipython3",
   "version": "3.10.12"
  }
 },
 "nbformat": 4,
 "nbformat_minor": 2
}
