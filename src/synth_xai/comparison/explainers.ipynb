{
 "cells": [
  {
   "cell_type": "code",
   "execution_count": 17,
   "metadata": {},
   "outputs": [],
   "source": [
    "import numpy as np\n",
    "import pandas as pd\n",
    "from sklearn.pipeline import make_pipeline\n",
    "from sklearn.ensemble import RandomForestClassifier\n",
    "from sklearn.preprocessing import StandardScaler, LabelEncoder\n",
    "from lime.lime_tabular import LimeTabularExplainer\n",
    "\n",
    "import argparse\n",
    "import datetime\n",
    "import random\n",
    "import signal\n",
    "import sys\n",
    "import warnings\n",
    "from collections import Counter\n",
    "from functools import partial\n",
    "from pathlib import Path\n",
    "from types import FrameType\n",
    "from typing import Any\n",
    "\n",
    "import dill\n",
    "import multiprocess\n",
    "import numpy as np\n",
    "import pandas as pd\n",
    "import torch\n",
    "from synth_xai.explanations.explanation_utils import (\n",
    "    evaluate_bb,\n",
    "    find_top_closest_rows,\n",
    "    get_test_data,\n",
    "    is_explainer_supported,\n",
    "    label_synthetic_data,\n",
    "    load_bb,\n",
    "    load_synthetic_data,\n",
    "    make_predictions,\n",
    "    prepare_neighbours,\n",
    "    setup_wandb,\n",
    "    transform_input_data,\n",
    ")\n",
    "from loguru import logger\n",
    "from multiprocess import Pool\n",
    "from sklearn.metrics import accuracy_score, f1_score\n",
    "from sklearn.model_selection import GridSearchCV, train_test_split\n",
    "from sklearn.preprocessing import (\n",
    "    MinMaxScaler,\n",
    ")\n",
    "\n",
    "from synth_xai.bb_architectures import MultiClassModel, SimpleModel\n",
    "from synth_xai.explanations.explainer_model import ExplainerModel\n",
    "from synth_xai.utils import (\n",
    "    prepare_adult,\n",
    "    prepare_dutch,\n",
    "    prepare_letter,\n",
    ")"
   ]
  },
  {
   "cell_type": "markdown",
   "metadata": {},
   "source": [
    "# Lore"
   ]
  },
  {
   "cell_type": "code",
   "execution_count": 18,
   "metadata": {},
   "outputs": [],
   "source": [
    "from lore_sa.dataset import TabularDataset\n",
    "\n",
    "# from lore_sa.lorem import LOREM"
   ]
  },
  {
   "cell_type": "code",
   "execution_count": 19,
   "metadata": {},
   "outputs": [
    {
     "name": "stdout",
     "output_type": "stream",
     "text": [
      "/home/lcorbucci/synth_xai/src/synth_xai/comparison\n"
     ]
    },
    {
     "data": {
      "text/plain": [
       "SimpleModel(\n",
       "  (layer1): Linear(in_features=111, out_features=32, bias=True)\n",
       "  (layer2): Linear(in_features=32, out_features=2, bias=True)\n",
       ")"
      ]
     },
     "execution_count": 19,
     "metadata": {},
     "output_type": "execute_result"
    }
   ],
   "source": [
    "class MyModel:\n",
    "    def __init__(self, model: torch.nn.Module, scaler) -> None:\n",
    "        self.model = model\n",
    "        self.scaler = scaler\n",
    "\n",
    "    def predict(self, x: np.ndarray) -> torch.Tensor:\n",
    "\n",
    "        x = self.scaler.transform(x)\n",
    "\n",
    "        predictions = []\n",
    "        for sample in x:\n",
    "            sample = torch.Tensor(sample)\n",
    "            predictions.append(self.model(sample).argmax().item())\n",
    "        return np.array(predictions)\n",
    "        # print(x)\n",
    "        # x = torch.Tensor(x)\n",
    "        # print(x)\n",
    "        # return np.array([self.model(sample).argmax().item() for sample in x])\n",
    "    \n",
    "\n",
    "seed = 112\n",
    "current_script_path = Path(\"./\").resolve()\n",
    "print(current_script_path)\n",
    "x_train, _, x_test, _, _, _, train_df, test_data = prepare_adult(sweep=False, seed=seed, current_path=current_script_path)\n",
    "\n",
    "# Get the feature names after one-hot encoding\n",
    "feature_names = list(train_df.drop(columns=[\"income_binary\"]).columns)\n",
    "\n",
    "bb_path = \"../../../artifacts/adult/bb/adult_BB.pth\"\n",
    "bb = load_bb(bb_path)\n",
    "\n",
    "bb.to(\"cpu\")\n"
   ]
  },
  {
   "cell_type": "code",
   "execution_count": 20,
   "metadata": {},
   "outputs": [],
   "source": [
    "import copy \n",
    "\n",
    "train_df_tmp = copy.copy(train_df)\n",
    "train_df_tmp = train_df_tmp.drop(columns=[\"income_binary\"])\n",
    "\n",
    "scaler = MinMaxScaler()\n",
    "x_train = scaler.fit_transform(train_df_tmp)"
   ]
  },
  {
   "cell_type": "code",
   "execution_count": 21,
   "metadata": {},
   "outputs": [],
   "source": [
    "model = MyModel(model=bb, scaler=scaler)\n",
    "\n",
    "num_classes = 2"
   ]
  },
  {
   "cell_type": "code",
   "execution_count": 22,
   "metadata": {},
   "outputs": [],
   "source": [
    "train_df[\"income_binary\"] = [int(x) for x in train_df[\"income_binary\"]]"
   ]
  },
  {
   "cell_type": "code",
   "execution_count": 23,
   "metadata": {},
   "outputs": [],
   "source": [
    "train_df[\"income_binary\"] = train_df[\"income_binary\"].astype('category')"
   ]
  },
  {
   "cell_type": "code",
   "execution_count": 24,
   "metadata": {},
   "outputs": [
    {
     "data": {
      "text/html": [
       "<div>\n",
       "<style scoped>\n",
       "    .dataframe tbody tr th:only-of-type {\n",
       "        vertical-align: middle;\n",
       "    }\n",
       "\n",
       "    .dataframe tbody tr th {\n",
       "        vertical-align: top;\n",
       "    }\n",
       "\n",
       "    .dataframe thead th {\n",
       "        text-align: right;\n",
       "    }\n",
       "</style>\n",
       "<table border=\"1\" class=\"dataframe\">\n",
       "  <thead>\n",
       "    <tr style=\"text-align: right;\">\n",
       "      <th></th>\n",
       "      <th>age</th>\n",
       "      <th>fnlwgt</th>\n",
       "      <th>education-num</th>\n",
       "      <th>capital-gain</th>\n",
       "      <th>capital-loss</th>\n",
       "      <th>hours-per-week</th>\n",
       "      <th>sex_binary</th>\n",
       "      <th>race_binary</th>\n",
       "      <th>age_binary</th>\n",
       "      <th>workclass_ ?</th>\n",
       "      <th>...</th>\n",
       "      <th>native-country_ Puerto-Rico</th>\n",
       "      <th>native-country_ Scotland</th>\n",
       "      <th>native-country_ South</th>\n",
       "      <th>native-country_ Taiwan</th>\n",
       "      <th>native-country_ Thailand</th>\n",
       "      <th>native-country_ Trinadad&amp;Tobago</th>\n",
       "      <th>native-country_ United-States</th>\n",
       "      <th>native-country_ Vietnam</th>\n",
       "      <th>native-country_ Yugoslavia</th>\n",
       "      <th>income_binary</th>\n",
       "    </tr>\n",
       "  </thead>\n",
       "  <tbody>\n",
       "    <tr>\n",
       "      <th>12555</th>\n",
       "      <td>46</td>\n",
       "      <td>122026</td>\n",
       "      <td>13</td>\n",
       "      <td>0</td>\n",
       "      <td>0</td>\n",
       "      <td>44</td>\n",
       "      <td>1</td>\n",
       "      <td>1</td>\n",
       "      <td>1</td>\n",
       "      <td>False</td>\n",
       "      <td>...</td>\n",
       "      <td>False</td>\n",
       "      <td>False</td>\n",
       "      <td>False</td>\n",
       "      <td>False</td>\n",
       "      <td>False</td>\n",
       "      <td>False</td>\n",
       "      <td>True</td>\n",
       "      <td>False</td>\n",
       "      <td>False</td>\n",
       "      <td>1</td>\n",
       "    </tr>\n",
       "    <tr>\n",
       "      <th>6963</th>\n",
       "      <td>50</td>\n",
       "      <td>173224</td>\n",
       "      <td>14</td>\n",
       "      <td>0</td>\n",
       "      <td>0</td>\n",
       "      <td>40</td>\n",
       "      <td>0</td>\n",
       "      <td>1</td>\n",
       "      <td>1</td>\n",
       "      <td>False</td>\n",
       "      <td>...</td>\n",
       "      <td>False</td>\n",
       "      <td>False</td>\n",
       "      <td>False</td>\n",
       "      <td>False</td>\n",
       "      <td>False</td>\n",
       "      <td>False</td>\n",
       "      <td>True</td>\n",
       "      <td>False</td>\n",
       "      <td>False</td>\n",
       "      <td>0</td>\n",
       "    </tr>\n",
       "    <tr>\n",
       "      <th>35772</th>\n",
       "      <td>23</td>\n",
       "      <td>398130</td>\n",
       "      <td>9</td>\n",
       "      <td>0</td>\n",
       "      <td>0</td>\n",
       "      <td>96</td>\n",
       "      <td>1</td>\n",
       "      <td>1</td>\n",
       "      <td>0</td>\n",
       "      <td>False</td>\n",
       "      <td>...</td>\n",
       "      <td>False</td>\n",
       "      <td>False</td>\n",
       "      <td>False</td>\n",
       "      <td>False</td>\n",
       "      <td>False</td>\n",
       "      <td>False</td>\n",
       "      <td>True</td>\n",
       "      <td>False</td>\n",
       "      <td>False</td>\n",
       "      <td>0</td>\n",
       "    </tr>\n",
       "    <tr>\n",
       "      <th>16995</th>\n",
       "      <td>37</td>\n",
       "      <td>136028</td>\n",
       "      <td>11</td>\n",
       "      <td>0</td>\n",
       "      <td>0</td>\n",
       "      <td>40</td>\n",
       "      <td>1</td>\n",
       "      <td>1</td>\n",
       "      <td>1</td>\n",
       "      <td>False</td>\n",
       "      <td>...</td>\n",
       "      <td>False</td>\n",
       "      <td>False</td>\n",
       "      <td>False</td>\n",
       "      <td>False</td>\n",
       "      <td>False</td>\n",
       "      <td>False</td>\n",
       "      <td>True</td>\n",
       "      <td>False</td>\n",
       "      <td>False</td>\n",
       "      <td>0</td>\n",
       "    </tr>\n",
       "    <tr>\n",
       "      <th>36079</th>\n",
       "      <td>48</td>\n",
       "      <td>196689</td>\n",
       "      <td>13</td>\n",
       "      <td>0</td>\n",
       "      <td>0</td>\n",
       "      <td>40</td>\n",
       "      <td>1</td>\n",
       "      <td>1</td>\n",
       "      <td>1</td>\n",
       "      <td>False</td>\n",
       "      <td>...</td>\n",
       "      <td>False</td>\n",
       "      <td>False</td>\n",
       "      <td>False</td>\n",
       "      <td>False</td>\n",
       "      <td>False</td>\n",
       "      <td>False</td>\n",
       "      <td>True</td>\n",
       "      <td>False</td>\n",
       "      <td>False</td>\n",
       "      <td>1</td>\n",
       "    </tr>\n",
       "    <tr>\n",
       "      <th>...</th>\n",
       "      <td>...</td>\n",
       "      <td>...</td>\n",
       "      <td>...</td>\n",
       "      <td>...</td>\n",
       "      <td>...</td>\n",
       "      <td>...</td>\n",
       "      <td>...</td>\n",
       "      <td>...</td>\n",
       "      <td>...</td>\n",
       "      <td>...</td>\n",
       "      <td>...</td>\n",
       "      <td>...</td>\n",
       "      <td>...</td>\n",
       "      <td>...</td>\n",
       "      <td>...</td>\n",
       "      <td>...</td>\n",
       "      <td>...</td>\n",
       "      <td>...</td>\n",
       "      <td>...</td>\n",
       "      <td>...</td>\n",
       "      <td>...</td>\n",
       "    </tr>\n",
       "    <tr>\n",
       "      <th>37628</th>\n",
       "      <td>46</td>\n",
       "      <td>151107</td>\n",
       "      <td>10</td>\n",
       "      <td>0</td>\n",
       "      <td>1977</td>\n",
       "      <td>60</td>\n",
       "      <td>1</td>\n",
       "      <td>0</td>\n",
       "      <td>1</td>\n",
       "      <td>False</td>\n",
       "      <td>...</td>\n",
       "      <td>False</td>\n",
       "      <td>False</td>\n",
       "      <td>False</td>\n",
       "      <td>False</td>\n",
       "      <td>False</td>\n",
       "      <td>False</td>\n",
       "      <td>True</td>\n",
       "      <td>False</td>\n",
       "      <td>False</td>\n",
       "      <td>1</td>\n",
       "    </tr>\n",
       "    <tr>\n",
       "      <th>10381</th>\n",
       "      <td>38</td>\n",
       "      <td>212245</td>\n",
       "      <td>10</td>\n",
       "      <td>0</td>\n",
       "      <td>0</td>\n",
       "      <td>40</td>\n",
       "      <td>1</td>\n",
       "      <td>1</td>\n",
       "      <td>1</td>\n",
       "      <td>False</td>\n",
       "      <td>...</td>\n",
       "      <td>False</td>\n",
       "      <td>False</td>\n",
       "      <td>False</td>\n",
       "      <td>False</td>\n",
       "      <td>False</td>\n",
       "      <td>False</td>\n",
       "      <td>True</td>\n",
       "      <td>False</td>\n",
       "      <td>False</td>\n",
       "      <td>0</td>\n",
       "    </tr>\n",
       "    <tr>\n",
       "      <th>9646</th>\n",
       "      <td>62</td>\n",
       "      <td>26911</td>\n",
       "      <td>4</td>\n",
       "      <td>0</td>\n",
       "      <td>0</td>\n",
       "      <td>66</td>\n",
       "      <td>0</td>\n",
       "      <td>1</td>\n",
       "      <td>0</td>\n",
       "      <td>False</td>\n",
       "      <td>...</td>\n",
       "      <td>False</td>\n",
       "      <td>False</td>\n",
       "      <td>False</td>\n",
       "      <td>False</td>\n",
       "      <td>False</td>\n",
       "      <td>False</td>\n",
       "      <td>True</td>\n",
       "      <td>False</td>\n",
       "      <td>False</td>\n",
       "      <td>0</td>\n",
       "    </tr>\n",
       "    <tr>\n",
       "      <th>34324</th>\n",
       "      <td>45</td>\n",
       "      <td>302677</td>\n",
       "      <td>10</td>\n",
       "      <td>0</td>\n",
       "      <td>1340</td>\n",
       "      <td>50</td>\n",
       "      <td>0</td>\n",
       "      <td>1</td>\n",
       "      <td>1</td>\n",
       "      <td>False</td>\n",
       "      <td>...</td>\n",
       "      <td>False</td>\n",
       "      <td>False</td>\n",
       "      <td>False</td>\n",
       "      <td>False</td>\n",
       "      <td>False</td>\n",
       "      <td>False</td>\n",
       "      <td>True</td>\n",
       "      <td>False</td>\n",
       "      <td>False</td>\n",
       "      <td>0</td>\n",
       "    </tr>\n",
       "    <tr>\n",
       "      <th>46420</th>\n",
       "      <td>40</td>\n",
       "      <td>187164</td>\n",
       "      <td>13</td>\n",
       "      <td>0</td>\n",
       "      <td>0</td>\n",
       "      <td>40</td>\n",
       "      <td>1</td>\n",
       "      <td>1</td>\n",
       "      <td>1</td>\n",
       "      <td>False</td>\n",
       "      <td>...</td>\n",
       "      <td>False</td>\n",
       "      <td>False</td>\n",
       "      <td>False</td>\n",
       "      <td>False</td>\n",
       "      <td>False</td>\n",
       "      <td>False</td>\n",
       "      <td>True</td>\n",
       "      <td>False</td>\n",
       "      <td>False</td>\n",
       "      <td>0</td>\n",
       "    </tr>\n",
       "  </tbody>\n",
       "</table>\n",
       "<p>39072 rows × 112 columns</p>\n",
       "</div>"
      ],
      "text/plain": [
       "       age  fnlwgt  education-num  capital-gain  capital-loss  hours-per-week  \\\n",
       "12555   46  122026             13             0             0              44   \n",
       "6963    50  173224             14             0             0              40   \n",
       "35772   23  398130              9             0             0              96   \n",
       "16995   37  136028             11             0             0              40   \n",
       "36079   48  196689             13             0             0              40   \n",
       "...    ...     ...            ...           ...           ...             ...   \n",
       "37628   46  151107             10             0          1977              60   \n",
       "10381   38  212245             10             0             0              40   \n",
       "9646    62   26911              4             0             0              66   \n",
       "34324   45  302677             10             0          1340              50   \n",
       "46420   40  187164             13             0             0              40   \n",
       "\n",
       "       sex_binary  race_binary  age_binary  workclass_ ?  ...  \\\n",
       "12555           1            1           1         False  ...   \n",
       "6963            0            1           1         False  ...   \n",
       "35772           1            1           0         False  ...   \n",
       "16995           1            1           1         False  ...   \n",
       "36079           1            1           1         False  ...   \n",
       "...           ...          ...         ...           ...  ...   \n",
       "37628           1            0           1         False  ...   \n",
       "10381           1            1           1         False  ...   \n",
       "9646            0            1           0         False  ...   \n",
       "34324           0            1           1         False  ...   \n",
       "46420           1            1           1         False  ...   \n",
       "\n",
       "       native-country_ Puerto-Rico  native-country_ Scotland  \\\n",
       "12555                        False                     False   \n",
       "6963                         False                     False   \n",
       "35772                        False                     False   \n",
       "16995                        False                     False   \n",
       "36079                        False                     False   \n",
       "...                            ...                       ...   \n",
       "37628                        False                     False   \n",
       "10381                        False                     False   \n",
       "9646                         False                     False   \n",
       "34324                        False                     False   \n",
       "46420                        False                     False   \n",
       "\n",
       "       native-country_ South  native-country_ Taiwan  \\\n",
       "12555                  False                   False   \n",
       "6963                   False                   False   \n",
       "35772                  False                   False   \n",
       "16995                  False                   False   \n",
       "36079                  False                   False   \n",
       "...                      ...                     ...   \n",
       "37628                  False                   False   \n",
       "10381                  False                   False   \n",
       "9646                   False                   False   \n",
       "34324                  False                   False   \n",
       "46420                  False                   False   \n",
       "\n",
       "       native-country_ Thailand  native-country_ Trinadad&Tobago  \\\n",
       "12555                     False                            False   \n",
       "6963                      False                            False   \n",
       "35772                     False                            False   \n",
       "16995                     False                            False   \n",
       "36079                     False                            False   \n",
       "...                         ...                              ...   \n",
       "37628                     False                            False   \n",
       "10381                     False                            False   \n",
       "9646                      False                            False   \n",
       "34324                     False                            False   \n",
       "46420                     False                            False   \n",
       "\n",
       "       native-country_ United-States  native-country_ Vietnam  \\\n",
       "12555                           True                    False   \n",
       "6963                            True                    False   \n",
       "35772                           True                    False   \n",
       "16995                           True                    False   \n",
       "36079                           True                    False   \n",
       "...                              ...                      ...   \n",
       "37628                           True                    False   \n",
       "10381                           True                    False   \n",
       "9646                            True                    False   \n",
       "34324                           True                    False   \n",
       "46420                           True                    False   \n",
       "\n",
       "       native-country_ Yugoslavia  income_binary  \n",
       "12555                       False              1  \n",
       "6963                        False              0  \n",
       "35772                       False              0  \n",
       "16995                       False              0  \n",
       "36079                       False              1  \n",
       "...                           ...            ...  \n",
       "37628                       False              1  \n",
       "10381                       False              0  \n",
       "9646                        False              0  \n",
       "34324                       False              0  \n",
       "46420                       False              0  \n",
       "\n",
       "[39072 rows x 112 columns]"
      ]
     },
     "execution_count": 24,
     "metadata": {},
     "output_type": "execute_result"
    }
   ],
   "source": [
    "dataset = TabularDataset.from_dict(train_df, class_name = \"income_binary\")\n",
    "dataset.df.dropna(inplace = True)\n",
    "dataset.df"
   ]
  },
  {
   "cell_type": "code",
   "execution_count": 25,
   "metadata": {},
   "outputs": [
    {
     "data": {
      "text/plain": [
       "dict_keys(['numeric', 'categorical', 'ordinal', 'target'])"
      ]
     },
     "execution_count": 25,
     "metadata": {},
     "output_type": "execute_result"
    }
   ],
   "source": [
    "dataset.descriptor.keys()"
   ]
  },
  {
   "cell_type": "code",
   "execution_count": 26,
   "metadata": {},
   "outputs": [],
   "source": [
    "from lore_sa.bbox import sklearn_classifier_bbox"
   ]
  },
  {
   "cell_type": "code",
   "execution_count": 27,
   "metadata": {},
   "outputs": [],
   "source": [
    "bbox = sklearn_classifier_bbox.sklearnBBox(model)"
   ]
  },
  {
   "cell_type": "code",
   "execution_count": 28,
   "metadata": {},
   "outputs": [],
   "source": [
    "from lore_sa.lore import TabularRandomGeneratorLore\n",
    "\n",
    "tabularLore = TabularRandomGeneratorLore(bbox, dataset)"
   ]
  },
  {
   "cell_type": "code",
   "execution_count": 29,
   "metadata": {},
   "outputs": [
    {
     "data": {
      "text/plain": [
       "age                                    60\n",
       "fnlwgt                             129379\n",
       "education-num                          10\n",
       "capital-gain                            0\n",
       "capital-loss                            0\n",
       "                                    ...  \n",
       "native-country_ Thailand            False\n",
       "native-country_ Trinadad&Tobago     False\n",
       "native-country_ United-States        True\n",
       "native-country_ Vietnam             False\n",
       "native-country_ Yugoslavia          False\n",
       "Name: 24447, Length: 111, dtype: object"
      ]
     },
     "execution_count": 29,
     "metadata": {},
     "output_type": "execute_result"
    }
   ],
   "source": [
    "num_row = 10\n",
    "x = dataset.df.iloc[num_row][:-1] # we exclude the target feature\n",
    "x"
   ]
  },
  {
   "cell_type": "code",
   "execution_count": 30,
   "metadata": {},
   "outputs": [],
   "source": [
    "# for i in range(0, 100):\n",
    "#     x = dataset.df.iloc[i][:-1] # we exclude the target feature\n",
    "#     print(bb(torch.Tensor(scaler.transform(np.array(x.values).reshape(1, -1)))).argmax())"
   ]
  },
  {
   "cell_type": "code",
   "execution_count": 31,
   "metadata": {},
   "outputs": [],
   "source": [
    "num_rows = 100\n",
    "multi_x = dataset.df.iloc[:num_row] # we exclude the target feature\n",
    "multi_x = multi_x.drop(columns = [\"income_binary\"])"
   ]
  },
  {
   "cell_type": "code",
   "execution_count": 32,
   "metadata": {},
   "outputs": [
    {
     "data": {
      "text/plain": [
       "tensor(1)"
      ]
     },
     "execution_count": 32,
     "metadata": {},
     "output_type": "execute_result"
    }
   ],
   "source": [
    "bb(torch.Tensor(scaler.transform(np.array(x.values).reshape(1, -1)))).argmax()"
   ]
  },
  {
   "cell_type": "code",
   "execution_count": 33,
   "metadata": {},
   "outputs": [
    {
     "data": {
      "text/plain": [
       "array([1, 1, 0, 0, 1, 0, 1, 0, 1, 0])"
      ]
     },
     "execution_count": 33,
     "metadata": {},
     "output_type": "execute_result"
    }
   ],
   "source": [
    "model.predict(multi_x)"
   ]
  },
  {
   "cell_type": "code",
   "execution_count": 34,
   "metadata": {},
   "outputs": [
    {
     "data": {
      "text/plain": [
       "dict_keys(['numeric', 'categorical', 'ordinal', 'target'])"
      ]
     },
     "execution_count": 34,
     "metadata": {},
     "output_type": "execute_result"
    }
   ],
   "source": [
    "dataset.descriptor.keys()"
   ]
  },
  {
   "cell_type": "code",
   "execution_count": 37,
   "metadata": {},
   "outputs": [
    {
     "data": {
      "text/plain": [
       "{'workclass_ ?': {'index': 9,\n",
       "  'distinct_values': [False, True],\n",
       "  'count': {False: 36868, True: 2204}},\n",
       " 'workclass_ Federal-gov': {'index': 10,\n",
       "  'distinct_values': [False, True],\n",
       "  'count': {False: 37909, True: 1163}},\n",
       " 'workclass_ Local-gov': {'index': 11,\n",
       "  'distinct_values': [False, True],\n",
       "  'count': {False: 36568, True: 2504}},\n",
       " 'workclass_ Never-worked': {'index': 12,\n",
       "  'distinct_values': [False, True],\n",
       "  'count': {False: 39062, True: 10}},\n",
       " 'workclass_ Private': {'index': 13,\n",
       "  'distinct_values': [True, False],\n",
       "  'count': {True: 27133, False: 11939}},\n",
       " 'workclass_ Self-emp-inc': {'index': 14,\n",
       "  'distinct_values': [False, True],\n",
       "  'count': {False: 37723, True: 1349}},\n",
       " 'workclass_ Self-emp-not-inc': {'index': 15,\n",
       "  'distinct_values': [False, True],\n",
       "  'count': {False: 35978, True: 3094}},\n",
       " 'workclass_ State-gov': {'index': 16,\n",
       "  'distinct_values': [False, True],\n",
       "  'count': {False: 37475, True: 1597}},\n",
       " 'workclass_ Without-pay': {'index': 17,\n",
       "  'distinct_values': [False, True],\n",
       "  'count': {False: 39054, True: 18}},\n",
       " 'education_ 10th': {'index': 18,\n",
       "  'distinct_values': [False, True],\n",
       "  'count': {False: 37981, True: 1091}},\n",
       " 'education_ 11th': {'index': 19,\n",
       "  'distinct_values': [False, True],\n",
       "  'count': {False: 37599, True: 1473}},\n",
       " 'education_ 12th': {'index': 20,\n",
       "  'distinct_values': [False, True],\n",
       "  'count': {False: 38544, True: 528}},\n",
       " 'education_ 1st-4th': {'index': 21,\n",
       "  'distinct_values': [False, True],\n",
       "  'count': {False: 38881, True: 191}},\n",
       " 'education_ 5th-6th': {'index': 22,\n",
       "  'distinct_values': [False, True],\n",
       "  'count': {False: 38653, True: 419}},\n",
       " 'education_ 7th-8th': {'index': 23,\n",
       "  'distinct_values': [False, True],\n",
       "  'count': {False: 38322, True: 750}},\n",
       " 'education_ 9th': {'index': 24,\n",
       "  'distinct_values': [False, True],\n",
       "  'count': {False: 38478, True: 594}},\n",
       " 'education_ Assoc-acdm': {'index': 25,\n",
       "  'distinct_values': [False, True],\n",
       "  'count': {False: 37782, True: 1290}},\n",
       " 'education_ Assoc-voc': {'index': 26,\n",
       "  'distinct_values': [False, True],\n",
       "  'count': {False: 37446, True: 1626}},\n",
       " 'education_ Bachelors': {'index': 27,\n",
       "  'distinct_values': [True, False],\n",
       "  'count': {True: 6460, False: 32612}},\n",
       " 'education_ Doctorate': {'index': 28,\n",
       "  'distinct_values': [False, True],\n",
       "  'count': {False: 38585, True: 487}},\n",
       " 'education_ HS-grad': {'index': 29,\n",
       "  'distinct_values': [False, True],\n",
       "  'count': {False: 26466, True: 12606}},\n",
       " 'education_ Masters': {'index': 30,\n",
       "  'distinct_values': [False, True],\n",
       "  'count': {False: 36960, True: 2112}},\n",
       " 'education_ Preschool': {'index': 31,\n",
       "  'distinct_values': [False, True],\n",
       "  'count': {False: 39003, True: 69}},\n",
       " 'education_ Prof-school': {'index': 32,\n",
       "  'distinct_values': [False, True],\n",
       "  'count': {False: 38378, True: 694}},\n",
       " 'education_ Some-college': {'index': 33,\n",
       "  'distinct_values': [False, True],\n",
       "  'count': {False: 30390, True: 8682}},\n",
       " 'marital-status_ Divorced': {'index': 34,\n",
       "  'distinct_values': [False, True],\n",
       "  'count': {False: 33786, True: 5286}},\n",
       " 'marital-status_ Married-AF-spouse': {'index': 35,\n",
       "  'distinct_values': [False, True],\n",
       "  'count': {False: 39043, True: 29}},\n",
       " 'marital-status_ Married-civ-spouse': {'index': 36,\n",
       "  'distinct_values': [True, False],\n",
       "  'count': {True: 17818, False: 21254}},\n",
       " 'marital-status_ Married-spouse-absent': {'index': 37,\n",
       "  'distinct_values': [False, True],\n",
       "  'count': {False: 38574, True: 498}},\n",
       " 'marital-status_ Never-married': {'index': 38,\n",
       "  'distinct_values': [False, True],\n",
       "  'count': {False: 26097, True: 12975}},\n",
       " 'marital-status_ Separated': {'index': 39,\n",
       "  'distinct_values': [False, True],\n",
       "  'count': {False: 37827, True: 1245}},\n",
       " 'marital-status_ Widowed': {'index': 40,\n",
       "  'distinct_values': [False, True],\n",
       "  'count': {False: 37851, True: 1221}},\n",
       " 'occupation_ ?': {'index': 41,\n",
       "  'distinct_values': [False, True],\n",
       "  'count': {False: 36858, True: 2214}},\n",
       " 'occupation_ Adm-clerical': {'index': 42,\n",
       "  'distinct_values': [False, True],\n",
       "  'count': {False: 34578, True: 4494}},\n",
       " 'occupation_ Armed-Forces': {'index': 43,\n",
       "  'distinct_values': [False, True],\n",
       "  'count': {False: 39060, True: 12}},\n",
       " 'occupation_ Craft-repair': {'index': 44,\n",
       "  'distinct_values': [True, False],\n",
       "  'count': {True: 4875, False: 34197}},\n",
       " 'occupation_ Exec-managerial': {'index': 45,\n",
       "  'distinct_values': [False, True],\n",
       "  'count': {False: 34172, True: 4900}},\n",
       " 'occupation_ Farming-fishing': {'index': 46,\n",
       "  'distinct_values': [False, True],\n",
       "  'count': {False: 37895, True: 1177}},\n",
       " 'occupation_ Handlers-cleaners': {'index': 47,\n",
       "  'distinct_values': [False, True],\n",
       "  'count': {False: 37405, True: 1667}},\n",
       " 'occupation_ Machine-op-inspct': {'index': 48,\n",
       "  'distinct_values': [False, True],\n",
       "  'count': {False: 36665, True: 2407}},\n",
       " 'occupation_ Other-service': {'index': 49,\n",
       "  'distinct_values': [False, True],\n",
       "  'count': {False: 35142, True: 3930}},\n",
       " 'occupation_ Priv-house-serv': {'index': 50,\n",
       "  'distinct_values': [False, True],\n",
       "  'count': {False: 38892, True: 180}},\n",
       " 'occupation_ Prof-specialty': {'index': 51,\n",
       "  'distinct_values': [False, True],\n",
       "  'count': {False: 34111, True: 4961}},\n",
       " 'occupation_ Protective-serv': {'index': 52,\n",
       "  'distinct_values': [False, True],\n",
       "  'count': {False: 38298, True: 774}},\n",
       " 'occupation_ Sales': {'index': 53,\n",
       "  'distinct_values': [False, True],\n",
       "  'count': {False: 34637, True: 4435}},\n",
       " 'occupation_ Tech-support': {'index': 54,\n",
       "  'distinct_values': [False, True],\n",
       "  'count': {False: 37904, True: 1168}},\n",
       " 'occupation_ Transport-moving': {'index': 55,\n",
       "  'distinct_values': [False, True],\n",
       "  'count': {False: 37194, True: 1878}},\n",
       " 'relationship_ Husband': {'index': 56,\n",
       "  'distinct_values': [True, False],\n",
       "  'count': {True: 15724, False: 23348}},\n",
       " 'relationship_ Not-in-family': {'index': 57,\n",
       "  'distinct_values': [False, True],\n",
       "  'count': {False: 28985, True: 10087}},\n",
       " 'relationship_ Other-relative': {'index': 58,\n",
       "  'distinct_values': [False, True],\n",
       "  'count': {False: 37872, True: 1200}},\n",
       " 'relationship_ Own-child': {'index': 59,\n",
       "  'distinct_values': [False, True],\n",
       "  'count': {False: 32981, True: 6091}},\n",
       " 'relationship_ Unmarried': {'index': 60,\n",
       "  'distinct_values': [False, True],\n",
       "  'count': {False: 34942, True: 4130}},\n",
       " 'relationship_ Wife': {'index': 61,\n",
       "  'distinct_values': [False, True],\n",
       "  'count': {False: 37232, True: 1840}},\n",
       " 'race_ Amer-Indian-Eskimo': {'index': 62,\n",
       "  'distinct_values': [False, True],\n",
       "  'count': {False: 38672, True: 400}},\n",
       " 'race_ Asian-Pac-Islander': {'index': 63,\n",
       "  'distinct_values': [False, True],\n",
       "  'count': {False: 37876, True: 1196}},\n",
       " 'race_ Black': {'index': 64,\n",
       "  'distinct_values': [False, True],\n",
       "  'count': {False: 35281, True: 3791}},\n",
       " 'race_ Other': {'index': 65,\n",
       "  'distinct_values': [False, True],\n",
       "  'count': {False: 38743, True: 329}},\n",
       " 'race_ White': {'index': 66,\n",
       "  'distinct_values': [True, False],\n",
       "  'count': {True: 33356, False: 5716}},\n",
       " 'sex_ Female': {'index': 67,\n",
       "  'distinct_values': [False, True],\n",
       "  'count': {False: 26126, True: 12946}},\n",
       " 'sex_ Male': {'index': 68,\n",
       "  'distinct_values': [True, False],\n",
       "  'count': {True: 26126, False: 12946}},\n",
       " 'native-country_ ?': {'index': 69,\n",
       "  'distinct_values': [False, True],\n",
       "  'count': {False: 38396, True: 676}},\n",
       " 'native-country_ Cambodia': {'index': 70,\n",
       "  'distinct_values': [False, True],\n",
       "  'count': {False: 39049, True: 23}},\n",
       " 'native-country_ Canada': {'index': 71,\n",
       "  'distinct_values': [False, True],\n",
       "  'count': {False: 38929, True: 143}},\n",
       " 'native-country_ China': {'index': 72,\n",
       "  'distinct_values': [False, True],\n",
       "  'count': {False: 38964, True: 108}},\n",
       " 'native-country_ Columbia': {'index': 73,\n",
       "  'distinct_values': [False, True],\n",
       "  'count': {False: 39013, True: 59}},\n",
       " 'native-country_ Cuba': {'index': 74,\n",
       "  'distinct_values': [False, True],\n",
       "  'count': {False: 38959, True: 113}},\n",
       " 'native-country_ Dominican-Republic': {'index': 75,\n",
       "  'distinct_values': [False, True],\n",
       "  'count': {False: 38992, True: 80}},\n",
       " 'native-country_ Ecuador': {'index': 76,\n",
       "  'distinct_values': [False, True],\n",
       "  'count': {False: 39039, True: 33}},\n",
       " 'native-country_ El-Salvador': {'index': 77,\n",
       "  'distinct_values': [False, True],\n",
       "  'count': {False: 38950, True: 122}},\n",
       " 'native-country_ England': {'index': 78,\n",
       "  'distinct_values': [False, True],\n",
       "  'count': {False: 38959, True: 113}},\n",
       " 'native-country_ France': {'index': 79,\n",
       "  'distinct_values': [False, True],\n",
       "  'count': {False: 39042, True: 30}},\n",
       " 'native-country_ Germany': {'index': 80,\n",
       "  'distinct_values': [False, True],\n",
       "  'count': {False: 38905, True: 167}},\n",
       " 'native-country_ Greece': {'index': 81,\n",
       "  'distinct_values': [False, True],\n",
       "  'count': {False: 39032, True: 40}},\n",
       " 'native-country_ Guatemala': {'index': 82,\n",
       "  'distinct_values': [False, True],\n",
       "  'count': {False: 38999, True: 73}},\n",
       " 'native-country_ Haiti': {'index': 83,\n",
       "  'distinct_values': [False, True],\n",
       "  'count': {False: 39009, True: 63}},\n",
       " 'native-country_ Holand-Netherlands': {'index': 84,\n",
       "  'distinct_values': [False, True],\n",
       "  'count': {False: 39071, True: 1}},\n",
       " 'native-country_ Honduras': {'index': 85,\n",
       "  'distinct_values': [False, True],\n",
       "  'count': {False: 39057, True: 15}},\n",
       " 'native-country_ Hong': {'index': 86,\n",
       "  'distinct_values': [False, True],\n",
       "  'count': {False: 39048, True: 24}},\n",
       " 'native-country_ Hungary': {'index': 87,\n",
       "  'distinct_values': [False, True],\n",
       "  'count': {False: 39057, True: 15}},\n",
       " 'native-country_ India': {'index': 88,\n",
       "  'distinct_values': [False, True],\n",
       "  'count': {False: 38949, True: 123}},\n",
       " 'native-country_ Iran': {'index': 89,\n",
       "  'distinct_values': [False, True],\n",
       "  'count': {False: 39025, True: 47}},\n",
       " 'native-country_ Ireland': {'index': 90,\n",
       "  'distinct_values': [False, True],\n",
       "  'count': {False: 39045, True: 27}},\n",
       " 'native-country_ Italy': {'index': 91,\n",
       "  'distinct_values': [False, True],\n",
       "  'count': {False: 38986, True: 86}},\n",
       " 'native-country_ Jamaica': {'index': 92,\n",
       "  'distinct_values': [False, True],\n",
       "  'count': {False: 38984, True: 88}},\n",
       " 'native-country_ Japan': {'index': 93,\n",
       "  'distinct_values': [False, True],\n",
       "  'count': {False: 38999, True: 73}},\n",
       " 'native-country_ Laos': {'index': 94,\n",
       "  'distinct_values': [False, True],\n",
       "  'count': {False: 39057, True: 15}},\n",
       " 'native-country_ Mexico': {'index': 95,\n",
       "  'distinct_values': [False, True],\n",
       "  'count': {False: 38306, True: 766}},\n",
       " 'native-country_ Nicaragua': {'index': 96,\n",
       "  'distinct_values': [False, True],\n",
       "  'count': {False: 39034, True: 38}},\n",
       " 'native-country_ Outlying-US(Guam-USVI-etc)': {'index': 97,\n",
       "  'distinct_values': [False, True],\n",
       "  'count': {False: 39052, True: 20}},\n",
       " 'native-country_ Peru': {'index': 98,\n",
       "  'distinct_values': [False, True],\n",
       "  'count': {False: 39032, True: 40}},\n",
       " 'native-country_ Philippines': {'index': 99,\n",
       "  'distinct_values': [False, True],\n",
       "  'count': {False: 38832, True: 240}},\n",
       " 'native-country_ Poland': {'index': 100,\n",
       "  'distinct_values': [False, True],\n",
       "  'count': {False: 39002, True: 70}},\n",
       " 'native-country_ Portugal': {'index': 101,\n",
       "  'distinct_values': [False, True],\n",
       "  'count': {False: 39028, True: 44}},\n",
       " 'native-country_ Puerto-Rico': {'index': 102,\n",
       "  'distinct_values': [False, True],\n",
       "  'count': {False: 38921, True: 151}},\n",
       " 'native-country_ Scotland': {'index': 103,\n",
       "  'distinct_values': [False, True],\n",
       "  'count': {False: 39055, True: 17}},\n",
       " 'native-country_ South': {'index': 104,\n",
       "  'distinct_values': [False, True],\n",
       "  'count': {False: 38980, True: 92}},\n",
       " 'native-country_ Taiwan': {'index': 105,\n",
       "  'distinct_values': [False, True],\n",
       "  'count': {False: 39017, True: 55}},\n",
       " 'native-country_ Thailand': {'index': 106,\n",
       "  'distinct_values': [False, True],\n",
       "  'count': {False: 39051, True: 21}},\n",
       " 'native-country_ Trinadad&Tobago': {'index': 107,\n",
       "  'distinct_values': [False, True],\n",
       "  'count': {False: 39049, True: 23}},\n",
       " 'native-country_ United-States': {'index': 108,\n",
       "  'distinct_values': [True, False],\n",
       "  'count': {True: 35050, False: 4022}},\n",
       " 'native-country_ Vietnam': {'index': 109,\n",
       "  'distinct_values': [False, True],\n",
       "  'count': {False: 39005, True: 67}},\n",
       " 'native-country_ Yugoslavia': {'index': 110,\n",
       "  'distinct_values': [False, True],\n",
       "  'count': {False: 39051, True: 21}}}"
      ]
     },
     "execution_count": 37,
     "metadata": {},
     "output_type": "execute_result"
    }
   ],
   "source": [
    "dataset.descriptor[\"categorical\"]"
   ]
  },
  {
   "cell_type": "code",
   "execution_count": null,
   "metadata": {},
   "outputs": [],
   "source": [
    "dataset.descriptor[\"target\"]"
   ]
  },
  {
   "cell_type": "code",
   "execution_count": null,
   "metadata": {},
   "outputs": [],
   "source": [
    "# when\n",
    "explanation = tabularLore.explain(x)\n",
    "# then\n",
    "print(explanation)"
   ]
  },
  {
   "cell_type": "code",
   "execution_count": null,
   "metadata": {},
   "outputs": [],
   "source": [
    "for premise in explanation[\"rule\"]['premises']:\n",
    "    print(premise[\"attr\"])"
   ]
  },
  {
   "cell_type": "code",
   "execution_count": 90,
   "metadata": {},
   "outputs": [],
   "source": [
    "with open(\"/home/lcorbucci/synth_xai/artifacts/adult/comparison_explanation/lore/lore_1.pkl\", \"rb\") as f:\n",
    "    shap_explanation = dill.load(f)"
   ]
  },
  {
   "cell_type": "code",
   "execution_count": null,
   "metadata": {},
   "outputs": [],
   "source": [
    "shap_explanation[1]"
   ]
  },
  {
   "cell_type": "code",
   "execution_count": null,
   "metadata": {},
   "outputs": [],
   "source": [
    "shap_explanation[1][\"rule\"][\"premises\"]"
   ]
  },
  {
   "cell_type": "markdown",
   "metadata": {},
   "source": [
    "# Lore - Dutch"
   ]
  },
  {
   "cell_type": "code",
   "execution_count": 2,
   "metadata": {},
   "outputs": [],
   "source": [
    "from lore_sa.dataset import TabularDataset\n",
    "\n",
    "# from lore_sa.lorem import LOREM"
   ]
  },
  {
   "cell_type": "code",
   "execution_count": 3,
   "metadata": {},
   "outputs": [],
   "source": [
    "!export CUDA_VISIBLE_DEVICES=1"
   ]
  },
  {
   "cell_type": "code",
   "execution_count": 4,
   "metadata": {},
   "outputs": [],
   "source": [
    "import os \n",
    "os.environ[\"CUDA_VISIBLE_DEVICES\"]=\"1\"\n"
   ]
  },
  {
   "cell_type": "code",
   "execution_count": 5,
   "metadata": {},
   "outputs": [
    {
     "name": "stdout",
     "output_type": "stream",
     "text": [
      "/home/lcorbucci/synth_xai/src/synth_xai/comparison\n"
     ]
    },
    {
     "data": {
      "text/plain": [
       "SimpleModel(\n",
       "  (layer1): Linear(in_features=11, out_features=32, bias=True)\n",
       "  (layer2): Linear(in_features=32, out_features=2, bias=True)\n",
       ")"
      ]
     },
     "execution_count": 5,
     "metadata": {},
     "output_type": "execute_result"
    }
   ],
   "source": [
    "class MyModel:\n",
    "    def __init__(self, model: torch.nn.Module, scaler) -> None:\n",
    "        self.model = model\n",
    "        self.scaler = scaler\n",
    "\n",
    "    def predict(self, x: np.ndarray) -> torch.Tensor:\n",
    "\n",
    "        x = self.scaler.transform(x)\n",
    "\n",
    "        predictions = []\n",
    "        for sample in x:\n",
    "            sample = torch.Tensor(sample)\n",
    "            predictions.append(self.model(sample).argmax().item())\n",
    "        return np.array(predictions)\n",
    "        # print(x)\n",
    "        # x = torch.Tensor(x)\n",
    "        # print(x)\n",
    "        # return np.array([self.model(sample).argmax().item() for sample in x])\n",
    "    \n",
    "\n",
    "seed = 112\n",
    "current_script_path = Path(\"./\").resolve()\n",
    "print(current_script_path)\n",
    "x_train, _, x_test, _, _, _, train_df, test_data = prepare_dutch(sweep=False, seed=seed, current_path=current_script_path)\n",
    "\n",
    "# Get the feature names after one-hot encoding\n",
    "feature_names = list(train_df.drop(columns=[\"occupation_binary\"]).columns)\n",
    "\n",
    "bb_path = \"../../../artifacts/dutch/bb/dutch_BB.pth\"\n",
    "bb = load_bb(bb_path)\n",
    "\n",
    "bb.to(\"cpu\")"
   ]
  },
  {
   "cell_type": "code",
   "execution_count": 6,
   "metadata": {},
   "outputs": [],
   "source": [
    "import copy \n",
    "\n",
    "train_df_tmp = copy.copy(train_df)\n",
    "train_df_tmp = train_df_tmp.drop(columns=[\"occupation_binary\"])\n",
    "\n",
    "scaler = MinMaxScaler()\n",
    "x_train = scaler.fit_transform(train_df_tmp)"
   ]
  },
  {
   "cell_type": "code",
   "execution_count": 7,
   "metadata": {},
   "outputs": [],
   "source": [
    "model = MyModel(model=bb, scaler=scaler)\n",
    "\n",
    "num_classes = 2"
   ]
  },
  {
   "cell_type": "code",
   "execution_count": 8,
   "metadata": {},
   "outputs": [],
   "source": [
    "train_df[\"occupation_binary\"] = [int(x) for x in train_df[\"occupation_binary\"]]"
   ]
  },
  {
   "cell_type": "code",
   "execution_count": 9,
   "metadata": {},
   "outputs": [],
   "source": [
    "train_df[\"occupation_binary\"] = train_df[\"occupation_binary\"].astype('category')    "
   ]
  },
  {
   "cell_type": "code",
   "execution_count": 10,
   "metadata": {},
   "outputs": [
    {
     "data": {
      "text/html": [
       "<div>\n",
       "<style scoped>\n",
       "    .dataframe tbody tr th:only-of-type {\n",
       "        vertical-align: middle;\n",
       "    }\n",
       "\n",
       "    .dataframe tbody tr th {\n",
       "        vertical-align: top;\n",
       "    }\n",
       "\n",
       "    .dataframe thead th {\n",
       "        text-align: right;\n",
       "    }\n",
       "</style>\n",
       "<table border=\"1\" class=\"dataframe\">\n",
       "  <thead>\n",
       "    <tr style=\"text-align: right;\">\n",
       "      <th></th>\n",
       "      <th>age</th>\n",
       "      <th>household_position</th>\n",
       "      <th>household_size</th>\n",
       "      <th>prev_residence_place</th>\n",
       "      <th>citizenship</th>\n",
       "      <th>country_birth</th>\n",
       "      <th>edu_level</th>\n",
       "      <th>economic_status</th>\n",
       "      <th>cur_eco_activity</th>\n",
       "      <th>Marital_status</th>\n",
       "      <th>sex_binary</th>\n",
       "      <th>occupation_binary</th>\n",
       "    </tr>\n",
       "  </thead>\n",
       "  <tbody>\n",
       "    <tr>\n",
       "      <th>41656</th>\n",
       "      <td>8</td>\n",
       "      <td>1122</td>\n",
       "      <td>125</td>\n",
       "      <td>1</td>\n",
       "      <td>1</td>\n",
       "      <td>1</td>\n",
       "      <td>3</td>\n",
       "      <td>111</td>\n",
       "      <td>136</td>\n",
       "      <td>2</td>\n",
       "      <td>1</td>\n",
       "      <td>1</td>\n",
       "    </tr>\n",
       "    <tr>\n",
       "      <th>10920</th>\n",
       "      <td>6</td>\n",
       "      <td>1121</td>\n",
       "      <td>112</td>\n",
       "      <td>1</td>\n",
       "      <td>1</td>\n",
       "      <td>1</td>\n",
       "      <td>3</td>\n",
       "      <td>111</td>\n",
       "      <td>122</td>\n",
       "      <td>2</td>\n",
       "      <td>1</td>\n",
       "      <td>0</td>\n",
       "    </tr>\n",
       "    <tr>\n",
       "      <th>9932</th>\n",
       "      <td>10</td>\n",
       "      <td>1122</td>\n",
       "      <td>113</td>\n",
       "      <td>1</td>\n",
       "      <td>1</td>\n",
       "      <td>1</td>\n",
       "      <td>3</td>\n",
       "      <td>111</td>\n",
       "      <td>137</td>\n",
       "      <td>2</td>\n",
       "      <td>1</td>\n",
       "      <td>0</td>\n",
       "    </tr>\n",
       "    <tr>\n",
       "      <th>10634</th>\n",
       "      <td>6</td>\n",
       "      <td>1122</td>\n",
       "      <td>113</td>\n",
       "      <td>1</td>\n",
       "      <td>1</td>\n",
       "      <td>1</td>\n",
       "      <td>3</td>\n",
       "      <td>111</td>\n",
       "      <td>132</td>\n",
       "      <td>2</td>\n",
       "      <td>0</td>\n",
       "      <td>1</td>\n",
       "    </tr>\n",
       "    <tr>\n",
       "      <th>27636</th>\n",
       "      <td>6</td>\n",
       "      <td>1210</td>\n",
       "      <td>111</td>\n",
       "      <td>1</td>\n",
       "      <td>1</td>\n",
       "      <td>1</td>\n",
       "      <td>3</td>\n",
       "      <td>111</td>\n",
       "      <td>136</td>\n",
       "      <td>1</td>\n",
       "      <td>0</td>\n",
       "      <td>1</td>\n",
       "    </tr>\n",
       "    <tr>\n",
       "      <th>...</th>\n",
       "      <td>...</td>\n",
       "      <td>...</td>\n",
       "      <td>...</td>\n",
       "      <td>...</td>\n",
       "      <td>...</td>\n",
       "      <td>...</td>\n",
       "      <td>...</td>\n",
       "      <td>...</td>\n",
       "      <td>...</td>\n",
       "      <td>...</td>\n",
       "      <td>...</td>\n",
       "      <td>...</td>\n",
       "    </tr>\n",
       "    <tr>\n",
       "      <th>59169</th>\n",
       "      <td>5</td>\n",
       "      <td>1131</td>\n",
       "      <td>112</td>\n",
       "      <td>1</td>\n",
       "      <td>1</td>\n",
       "      <td>1</td>\n",
       "      <td>3</td>\n",
       "      <td>111</td>\n",
       "      <td>138</td>\n",
       "      <td>1</td>\n",
       "      <td>0</td>\n",
       "      <td>1</td>\n",
       "    </tr>\n",
       "    <tr>\n",
       "      <th>32180</th>\n",
       "      <td>11</td>\n",
       "      <td>1122</td>\n",
       "      <td>113</td>\n",
       "      <td>1</td>\n",
       "      <td>1</td>\n",
       "      <td>1</td>\n",
       "      <td>2</td>\n",
       "      <td>111</td>\n",
       "      <td>133</td>\n",
       "      <td>2</td>\n",
       "      <td>1</td>\n",
       "      <td>1</td>\n",
       "    </tr>\n",
       "    <tr>\n",
       "      <th>4499</th>\n",
       "      <td>8</td>\n",
       "      <td>1210</td>\n",
       "      <td>111</td>\n",
       "      <td>1</td>\n",
       "      <td>1</td>\n",
       "      <td>1</td>\n",
       "      <td>3</td>\n",
       "      <td>111</td>\n",
       "      <td>122</td>\n",
       "      <td>4</td>\n",
       "      <td>1</td>\n",
       "      <td>0</td>\n",
       "    </tr>\n",
       "    <tr>\n",
       "      <th>14382</th>\n",
       "      <td>8</td>\n",
       "      <td>1132</td>\n",
       "      <td>113</td>\n",
       "      <td>1</td>\n",
       "      <td>1</td>\n",
       "      <td>1</td>\n",
       "      <td>3</td>\n",
       "      <td>111</td>\n",
       "      <td>135</td>\n",
       "      <td>4</td>\n",
       "      <td>1</td>\n",
       "      <td>0</td>\n",
       "    </tr>\n",
       "    <tr>\n",
       "      <th>15886</th>\n",
       "      <td>7</td>\n",
       "      <td>1131</td>\n",
       "      <td>112</td>\n",
       "      <td>1</td>\n",
       "      <td>1</td>\n",
       "      <td>1</td>\n",
       "      <td>3</td>\n",
       "      <td>111</td>\n",
       "      <td>133</td>\n",
       "      <td>1</td>\n",
       "      <td>1</td>\n",
       "      <td>1</td>\n",
       "    </tr>\n",
       "  </tbody>\n",
       "</table>\n",
       "<p>48336 rows × 12 columns</p>\n",
       "</div>"
      ],
      "text/plain": [
       "       age  household_position  household_size  prev_residence_place  \\\n",
       "41656    8                1122             125                     1   \n",
       "10920    6                1121             112                     1   \n",
       "9932    10                1122             113                     1   \n",
       "10634    6                1122             113                     1   \n",
       "27636    6                1210             111                     1   \n",
       "...    ...                 ...             ...                   ...   \n",
       "59169    5                1131             112                     1   \n",
       "32180   11                1122             113                     1   \n",
       "4499     8                1210             111                     1   \n",
       "14382    8                1132             113                     1   \n",
       "15886    7                1131             112                     1   \n",
       "\n",
       "       citizenship  country_birth  edu_level  economic_status  \\\n",
       "41656            1              1          3              111   \n",
       "10920            1              1          3              111   \n",
       "9932             1              1          3              111   \n",
       "10634            1              1          3              111   \n",
       "27636            1              1          3              111   \n",
       "...            ...            ...        ...              ...   \n",
       "59169            1              1          3              111   \n",
       "32180            1              1          2              111   \n",
       "4499             1              1          3              111   \n",
       "14382            1              1          3              111   \n",
       "15886            1              1          3              111   \n",
       "\n",
       "       cur_eco_activity  Marital_status  sex_binary occupation_binary  \n",
       "41656               136               2           1                 1  \n",
       "10920               122               2           1                 0  \n",
       "9932                137               2           1                 0  \n",
       "10634               132               2           0                 1  \n",
       "27636               136               1           0                 1  \n",
       "...                 ...             ...         ...               ...  \n",
       "59169               138               1           0                 1  \n",
       "32180               133               2           1                 1  \n",
       "4499                122               4           1                 0  \n",
       "14382               135               4           1                 0  \n",
       "15886               133               1           1                 1  \n",
       "\n",
       "[48336 rows x 12 columns]"
      ]
     },
     "execution_count": 10,
     "metadata": {},
     "output_type": "execute_result"
    }
   ],
   "source": [
    "dataset = TabularDataset.from_dict(train_df, class_name = \"occupation_binary\")\n",
    "dataset.df.dropna(inplace = True)\n",
    "dataset.df"
   ]
  },
  {
   "cell_type": "code",
   "execution_count": 11,
   "metadata": {},
   "outputs": [
    {
     "data": {
      "text/plain": [
       "dict_keys(['numeric', 'categorical', 'ordinal', 'target'])"
      ]
     },
     "execution_count": 11,
     "metadata": {},
     "output_type": "execute_result"
    }
   ],
   "source": [
    "dataset.descriptor.keys()"
   ]
  },
  {
   "cell_type": "code",
   "execution_count": 38,
   "metadata": {},
   "outputs": [
    {
     "data": {
      "text/plain": [
       "{'workclass_ ?': {'index': 9,\n",
       "  'distinct_values': [False, True],\n",
       "  'count': {False: 36868, True: 2204}},\n",
       " 'workclass_ Federal-gov': {'index': 10,\n",
       "  'distinct_values': [False, True],\n",
       "  'count': {False: 37909, True: 1163}},\n",
       " 'workclass_ Local-gov': {'index': 11,\n",
       "  'distinct_values': [False, True],\n",
       "  'count': {False: 36568, True: 2504}},\n",
       " 'workclass_ Never-worked': {'index': 12,\n",
       "  'distinct_values': [False, True],\n",
       "  'count': {False: 39062, True: 10}},\n",
       " 'workclass_ Private': {'index': 13,\n",
       "  'distinct_values': [True, False],\n",
       "  'count': {True: 27133, False: 11939}},\n",
       " 'workclass_ Self-emp-inc': {'index': 14,\n",
       "  'distinct_values': [False, True],\n",
       "  'count': {False: 37723, True: 1349}},\n",
       " 'workclass_ Self-emp-not-inc': {'index': 15,\n",
       "  'distinct_values': [False, True],\n",
       "  'count': {False: 35978, True: 3094}},\n",
       " 'workclass_ State-gov': {'index': 16,\n",
       "  'distinct_values': [False, True],\n",
       "  'count': {False: 37475, True: 1597}},\n",
       " 'workclass_ Without-pay': {'index': 17,\n",
       "  'distinct_values': [False, True],\n",
       "  'count': {False: 39054, True: 18}},\n",
       " 'education_ 10th': {'index': 18,\n",
       "  'distinct_values': [False, True],\n",
       "  'count': {False: 37981, True: 1091}},\n",
       " 'education_ 11th': {'index': 19,\n",
       "  'distinct_values': [False, True],\n",
       "  'count': {False: 37599, True: 1473}},\n",
       " 'education_ 12th': {'index': 20,\n",
       "  'distinct_values': [False, True],\n",
       "  'count': {False: 38544, True: 528}},\n",
       " 'education_ 1st-4th': {'index': 21,\n",
       "  'distinct_values': [False, True],\n",
       "  'count': {False: 38881, True: 191}},\n",
       " 'education_ 5th-6th': {'index': 22,\n",
       "  'distinct_values': [False, True],\n",
       "  'count': {False: 38653, True: 419}},\n",
       " 'education_ 7th-8th': {'index': 23,\n",
       "  'distinct_values': [False, True],\n",
       "  'count': {False: 38322, True: 750}},\n",
       " 'education_ 9th': {'index': 24,\n",
       "  'distinct_values': [False, True],\n",
       "  'count': {False: 38478, True: 594}},\n",
       " 'education_ Assoc-acdm': {'index': 25,\n",
       "  'distinct_values': [False, True],\n",
       "  'count': {False: 37782, True: 1290}},\n",
       " 'education_ Assoc-voc': {'index': 26,\n",
       "  'distinct_values': [False, True],\n",
       "  'count': {False: 37446, True: 1626}},\n",
       " 'education_ Bachelors': {'index': 27,\n",
       "  'distinct_values': [True, False],\n",
       "  'count': {True: 6460, False: 32612}},\n",
       " 'education_ Doctorate': {'index': 28,\n",
       "  'distinct_values': [False, True],\n",
       "  'count': {False: 38585, True: 487}},\n",
       " 'education_ HS-grad': {'index': 29,\n",
       "  'distinct_values': [False, True],\n",
       "  'count': {False: 26466, True: 12606}},\n",
       " 'education_ Masters': {'index': 30,\n",
       "  'distinct_values': [False, True],\n",
       "  'count': {False: 36960, True: 2112}},\n",
       " 'education_ Preschool': {'index': 31,\n",
       "  'distinct_values': [False, True],\n",
       "  'count': {False: 39003, True: 69}},\n",
       " 'education_ Prof-school': {'index': 32,\n",
       "  'distinct_values': [False, True],\n",
       "  'count': {False: 38378, True: 694}},\n",
       " 'education_ Some-college': {'index': 33,\n",
       "  'distinct_values': [False, True],\n",
       "  'count': {False: 30390, True: 8682}},\n",
       " 'marital-status_ Divorced': {'index': 34,\n",
       "  'distinct_values': [False, True],\n",
       "  'count': {False: 33786, True: 5286}},\n",
       " 'marital-status_ Married-AF-spouse': {'index': 35,\n",
       "  'distinct_values': [False, True],\n",
       "  'count': {False: 39043, True: 29}},\n",
       " 'marital-status_ Married-civ-spouse': {'index': 36,\n",
       "  'distinct_values': [True, False],\n",
       "  'count': {True: 17818, False: 21254}},\n",
       " 'marital-status_ Married-spouse-absent': {'index': 37,\n",
       "  'distinct_values': [False, True],\n",
       "  'count': {False: 38574, True: 498}},\n",
       " 'marital-status_ Never-married': {'index': 38,\n",
       "  'distinct_values': [False, True],\n",
       "  'count': {False: 26097, True: 12975}},\n",
       " 'marital-status_ Separated': {'index': 39,\n",
       "  'distinct_values': [False, True],\n",
       "  'count': {False: 37827, True: 1245}},\n",
       " 'marital-status_ Widowed': {'index': 40,\n",
       "  'distinct_values': [False, True],\n",
       "  'count': {False: 37851, True: 1221}},\n",
       " 'occupation_ ?': {'index': 41,\n",
       "  'distinct_values': [False, True],\n",
       "  'count': {False: 36858, True: 2214}},\n",
       " 'occupation_ Adm-clerical': {'index': 42,\n",
       "  'distinct_values': [False, True],\n",
       "  'count': {False: 34578, True: 4494}},\n",
       " 'occupation_ Armed-Forces': {'index': 43,\n",
       "  'distinct_values': [False, True],\n",
       "  'count': {False: 39060, True: 12}},\n",
       " 'occupation_ Craft-repair': {'index': 44,\n",
       "  'distinct_values': [True, False],\n",
       "  'count': {True: 4875, False: 34197}},\n",
       " 'occupation_ Exec-managerial': {'index': 45,\n",
       "  'distinct_values': [False, True],\n",
       "  'count': {False: 34172, True: 4900}},\n",
       " 'occupation_ Farming-fishing': {'index': 46,\n",
       "  'distinct_values': [False, True],\n",
       "  'count': {False: 37895, True: 1177}},\n",
       " 'occupation_ Handlers-cleaners': {'index': 47,\n",
       "  'distinct_values': [False, True],\n",
       "  'count': {False: 37405, True: 1667}},\n",
       " 'occupation_ Machine-op-inspct': {'index': 48,\n",
       "  'distinct_values': [False, True],\n",
       "  'count': {False: 36665, True: 2407}},\n",
       " 'occupation_ Other-service': {'index': 49,\n",
       "  'distinct_values': [False, True],\n",
       "  'count': {False: 35142, True: 3930}},\n",
       " 'occupation_ Priv-house-serv': {'index': 50,\n",
       "  'distinct_values': [False, True],\n",
       "  'count': {False: 38892, True: 180}},\n",
       " 'occupation_ Prof-specialty': {'index': 51,\n",
       "  'distinct_values': [False, True],\n",
       "  'count': {False: 34111, True: 4961}},\n",
       " 'occupation_ Protective-serv': {'index': 52,\n",
       "  'distinct_values': [False, True],\n",
       "  'count': {False: 38298, True: 774}},\n",
       " 'occupation_ Sales': {'index': 53,\n",
       "  'distinct_values': [False, True],\n",
       "  'count': {False: 34637, True: 4435}},\n",
       " 'occupation_ Tech-support': {'index': 54,\n",
       "  'distinct_values': [False, True],\n",
       "  'count': {False: 37904, True: 1168}},\n",
       " 'occupation_ Transport-moving': {'index': 55,\n",
       "  'distinct_values': [False, True],\n",
       "  'count': {False: 37194, True: 1878}},\n",
       " 'relationship_ Husband': {'index': 56,\n",
       "  'distinct_values': [True, False],\n",
       "  'count': {True: 15724, False: 23348}},\n",
       " 'relationship_ Not-in-family': {'index': 57,\n",
       "  'distinct_values': [False, True],\n",
       "  'count': {False: 28985, True: 10087}},\n",
       " 'relationship_ Other-relative': {'index': 58,\n",
       "  'distinct_values': [False, True],\n",
       "  'count': {False: 37872, True: 1200}},\n",
       " 'relationship_ Own-child': {'index': 59,\n",
       "  'distinct_values': [False, True],\n",
       "  'count': {False: 32981, True: 6091}},\n",
       " 'relationship_ Unmarried': {'index': 60,\n",
       "  'distinct_values': [False, True],\n",
       "  'count': {False: 34942, True: 4130}},\n",
       " 'relationship_ Wife': {'index': 61,\n",
       "  'distinct_values': [False, True],\n",
       "  'count': {False: 37232, True: 1840}},\n",
       " 'race_ Amer-Indian-Eskimo': {'index': 62,\n",
       "  'distinct_values': [False, True],\n",
       "  'count': {False: 38672, True: 400}},\n",
       " 'race_ Asian-Pac-Islander': {'index': 63,\n",
       "  'distinct_values': [False, True],\n",
       "  'count': {False: 37876, True: 1196}},\n",
       " 'race_ Black': {'index': 64,\n",
       "  'distinct_values': [False, True],\n",
       "  'count': {False: 35281, True: 3791}},\n",
       " 'race_ Other': {'index': 65,\n",
       "  'distinct_values': [False, True],\n",
       "  'count': {False: 38743, True: 329}},\n",
       " 'race_ White': {'index': 66,\n",
       "  'distinct_values': [True, False],\n",
       "  'count': {True: 33356, False: 5716}},\n",
       " 'sex_ Female': {'index': 67,\n",
       "  'distinct_values': [False, True],\n",
       "  'count': {False: 26126, True: 12946}},\n",
       " 'sex_ Male': {'index': 68,\n",
       "  'distinct_values': [True, False],\n",
       "  'count': {True: 26126, False: 12946}},\n",
       " 'native-country_ ?': {'index': 69,\n",
       "  'distinct_values': [False, True],\n",
       "  'count': {False: 38396, True: 676}},\n",
       " 'native-country_ Cambodia': {'index': 70,\n",
       "  'distinct_values': [False, True],\n",
       "  'count': {False: 39049, True: 23}},\n",
       " 'native-country_ Canada': {'index': 71,\n",
       "  'distinct_values': [False, True],\n",
       "  'count': {False: 38929, True: 143}},\n",
       " 'native-country_ China': {'index': 72,\n",
       "  'distinct_values': [False, True],\n",
       "  'count': {False: 38964, True: 108}},\n",
       " 'native-country_ Columbia': {'index': 73,\n",
       "  'distinct_values': [False, True],\n",
       "  'count': {False: 39013, True: 59}},\n",
       " 'native-country_ Cuba': {'index': 74,\n",
       "  'distinct_values': [False, True],\n",
       "  'count': {False: 38959, True: 113}},\n",
       " 'native-country_ Dominican-Republic': {'index': 75,\n",
       "  'distinct_values': [False, True],\n",
       "  'count': {False: 38992, True: 80}},\n",
       " 'native-country_ Ecuador': {'index': 76,\n",
       "  'distinct_values': [False, True],\n",
       "  'count': {False: 39039, True: 33}},\n",
       " 'native-country_ El-Salvador': {'index': 77,\n",
       "  'distinct_values': [False, True],\n",
       "  'count': {False: 38950, True: 122}},\n",
       " 'native-country_ England': {'index': 78,\n",
       "  'distinct_values': [False, True],\n",
       "  'count': {False: 38959, True: 113}},\n",
       " 'native-country_ France': {'index': 79,\n",
       "  'distinct_values': [False, True],\n",
       "  'count': {False: 39042, True: 30}},\n",
       " 'native-country_ Germany': {'index': 80,\n",
       "  'distinct_values': [False, True],\n",
       "  'count': {False: 38905, True: 167}},\n",
       " 'native-country_ Greece': {'index': 81,\n",
       "  'distinct_values': [False, True],\n",
       "  'count': {False: 39032, True: 40}},\n",
       " 'native-country_ Guatemala': {'index': 82,\n",
       "  'distinct_values': [False, True],\n",
       "  'count': {False: 38999, True: 73}},\n",
       " 'native-country_ Haiti': {'index': 83,\n",
       "  'distinct_values': [False, True],\n",
       "  'count': {False: 39009, True: 63}},\n",
       " 'native-country_ Holand-Netherlands': {'index': 84,\n",
       "  'distinct_values': [False, True],\n",
       "  'count': {False: 39071, True: 1}},\n",
       " 'native-country_ Honduras': {'index': 85,\n",
       "  'distinct_values': [False, True],\n",
       "  'count': {False: 39057, True: 15}},\n",
       " 'native-country_ Hong': {'index': 86,\n",
       "  'distinct_values': [False, True],\n",
       "  'count': {False: 39048, True: 24}},\n",
       " 'native-country_ Hungary': {'index': 87,\n",
       "  'distinct_values': [False, True],\n",
       "  'count': {False: 39057, True: 15}},\n",
       " 'native-country_ India': {'index': 88,\n",
       "  'distinct_values': [False, True],\n",
       "  'count': {False: 38949, True: 123}},\n",
       " 'native-country_ Iran': {'index': 89,\n",
       "  'distinct_values': [False, True],\n",
       "  'count': {False: 39025, True: 47}},\n",
       " 'native-country_ Ireland': {'index': 90,\n",
       "  'distinct_values': [False, True],\n",
       "  'count': {False: 39045, True: 27}},\n",
       " 'native-country_ Italy': {'index': 91,\n",
       "  'distinct_values': [False, True],\n",
       "  'count': {False: 38986, True: 86}},\n",
       " 'native-country_ Jamaica': {'index': 92,\n",
       "  'distinct_values': [False, True],\n",
       "  'count': {False: 38984, True: 88}},\n",
       " 'native-country_ Japan': {'index': 93,\n",
       "  'distinct_values': [False, True],\n",
       "  'count': {False: 38999, True: 73}},\n",
       " 'native-country_ Laos': {'index': 94,\n",
       "  'distinct_values': [False, True],\n",
       "  'count': {False: 39057, True: 15}},\n",
       " 'native-country_ Mexico': {'index': 95,\n",
       "  'distinct_values': [False, True],\n",
       "  'count': {False: 38306, True: 766}},\n",
       " 'native-country_ Nicaragua': {'index': 96,\n",
       "  'distinct_values': [False, True],\n",
       "  'count': {False: 39034, True: 38}},\n",
       " 'native-country_ Outlying-US(Guam-USVI-etc)': {'index': 97,\n",
       "  'distinct_values': [False, True],\n",
       "  'count': {False: 39052, True: 20}},\n",
       " 'native-country_ Peru': {'index': 98,\n",
       "  'distinct_values': [False, True],\n",
       "  'count': {False: 39032, True: 40}},\n",
       " 'native-country_ Philippines': {'index': 99,\n",
       "  'distinct_values': [False, True],\n",
       "  'count': {False: 38832, True: 240}},\n",
       " 'native-country_ Poland': {'index': 100,\n",
       "  'distinct_values': [False, True],\n",
       "  'count': {False: 39002, True: 70}},\n",
       " 'native-country_ Portugal': {'index': 101,\n",
       "  'distinct_values': [False, True],\n",
       "  'count': {False: 39028, True: 44}},\n",
       " 'native-country_ Puerto-Rico': {'index': 102,\n",
       "  'distinct_values': [False, True],\n",
       "  'count': {False: 38921, True: 151}},\n",
       " 'native-country_ Scotland': {'index': 103,\n",
       "  'distinct_values': [False, True],\n",
       "  'count': {False: 39055, True: 17}},\n",
       " 'native-country_ South': {'index': 104,\n",
       "  'distinct_values': [False, True],\n",
       "  'count': {False: 38980, True: 92}},\n",
       " 'native-country_ Taiwan': {'index': 105,\n",
       "  'distinct_values': [False, True],\n",
       "  'count': {False: 39017, True: 55}},\n",
       " 'native-country_ Thailand': {'index': 106,\n",
       "  'distinct_values': [False, True],\n",
       "  'count': {False: 39051, True: 21}},\n",
       " 'native-country_ Trinadad&Tobago': {'index': 107,\n",
       "  'distinct_values': [False, True],\n",
       "  'count': {False: 39049, True: 23}},\n",
       " 'native-country_ United-States': {'index': 108,\n",
       "  'distinct_values': [True, False],\n",
       "  'count': {True: 35050, False: 4022}},\n",
       " 'native-country_ Vietnam': {'index': 109,\n",
       "  'distinct_values': [False, True],\n",
       "  'count': {False: 39005, True: 67}},\n",
       " 'native-country_ Yugoslavia': {'index': 110,\n",
       "  'distinct_values': [False, True],\n",
       "  'count': {False: 39051, True: 21}}}"
      ]
     },
     "execution_count": 38,
     "metadata": {},
     "output_type": "execute_result"
    }
   ],
   "source": [
    "dataset.descriptor[\"numeric\"]"
   ]
  },
  {
   "cell_type": "code",
   "execution_count": null,
   "metadata": {},
   "outputs": [],
   "source": [
    "from lore_sa.bbox import sklearn_classifier_bbox"
   ]
  },
  {
   "cell_type": "code",
   "execution_count": null,
   "metadata": {},
   "outputs": [],
   "source": [
    "bbox = sklearn_classifier_bbox.sklearnBBox(model)"
   ]
  },
  {
   "cell_type": "code",
   "execution_count": null,
   "metadata": {},
   "outputs": [],
   "source": [
    "from lore_sa.lore import TabularRandomGeneratorLore\n",
    "\n",
    "tabularLore = TabularRandomGeneratorLore(bbox, dataset)"
   ]
  },
  {
   "cell_type": "code",
   "execution_count": null,
   "metadata": {},
   "outputs": [],
   "source": [
    "num_row = 10\n",
    "x = dataset.df.iloc[num_row][:-1] # we exclude the target feature\n",
    "x"
   ]
  },
  {
   "cell_type": "code",
   "execution_count": null,
   "metadata": {},
   "outputs": [],
   "source": [
    "# for i in range(0, 100):\n",
    "#     x = dataset.df.iloc[i][:-1] # we exclude the target feature\n",
    "#     print(bb(torch.Tensor(scaler.transform(np.array(x.values).reshape(1, -1)))).argmax())"
   ]
  },
  {
   "cell_type": "code",
   "execution_count": null,
   "metadata": {},
   "outputs": [],
   "source": [
    "num_rows = 100\n",
    "multi_x = dataset.df.iloc[:num_row] # we exclude the target feature\n",
    "multi_x = multi_x.drop(columns = [\"income_binary\"])"
   ]
  },
  {
   "cell_type": "code",
   "execution_count": null,
   "metadata": {},
   "outputs": [],
   "source": [
    "bb(torch.Tensor(scaler.transform(np.array(x.values).reshape(1, -1)))).argmax()"
   ]
  },
  {
   "cell_type": "code",
   "execution_count": null,
   "metadata": {},
   "outputs": [],
   "source": [
    "model.predict(multi_x)"
   ]
  },
  {
   "cell_type": "code",
   "execution_count": null,
   "metadata": {},
   "outputs": [],
   "source": [
    "dataset.descriptor.keys()"
   ]
  },
  {
   "cell_type": "code",
   "execution_count": null,
   "metadata": {},
   "outputs": [],
   "source": [
    "dataset.descriptor[\"target\"]"
   ]
  },
  {
   "cell_type": "code",
   "execution_count": null,
   "metadata": {},
   "outputs": [],
   "source": [
    "# when\n",
    "explanation = tabularLore.explain(x)\n",
    "# then\n",
    "print(explanation)"
   ]
  },
  {
   "cell_type": "code",
   "execution_count": null,
   "metadata": {},
   "outputs": [],
   "source": [
    "for premise in explanation[\"rule\"]['premises']:\n",
    "    print(premise[\"attr\"])"
   ]
  },
  {
   "cell_type": "code",
   "execution_count": null,
   "metadata": {},
   "outputs": [],
   "source": [
    "with open(\"/home/lcorbucci/synth_xai/artifacts/adult/comparison_explanation/lore/lore_1.pkl\", \"rb\") as f:\n",
    "    shap_explanation = dill.load(f)"
   ]
  },
  {
   "cell_type": "code",
   "execution_count": null,
   "metadata": {},
   "outputs": [],
   "source": [
    "shap_explanation[1]"
   ]
  },
  {
   "cell_type": "code",
   "execution_count": null,
   "metadata": {},
   "outputs": [],
   "source": [
    "shap_explanation[1][\"rule\"][\"premises\"]"
   ]
  },
  {
   "cell_type": "markdown",
   "metadata": {},
   "source": [
    "# Lore Multiclass"
   ]
  },
  {
   "cell_type": "code",
   "execution_count": 93,
   "metadata": {},
   "outputs": [],
   "source": [
    "from lore_sa.dataset import TabularDataset\n",
    "\n",
    "# from lore_sa.lorem import LOREM"
   ]
  },
  {
   "cell_type": "code",
   "execution_count": null,
   "metadata": {},
   "outputs": [],
   "source": [
    "class MyModel:\n",
    "    def __init__(self, model: torch.nn.Module, scaler) -> None:\n",
    "        self.model = model\n",
    "        self.scaler = scaler\n",
    "\n",
    "    def predict(self, x: np.ndarray) -> torch.Tensor:\n",
    "\n",
    "        x = self.scaler.transform(x)\n",
    "\n",
    "        predictions = []\n",
    "        for sample in x:\n",
    "            sample = torch.Tensor(sample)\n",
    "            predictions.append(self.model(sample).argmax().item())\n",
    "        return np.array(predictions)\n",
    "        # print(x)\n",
    "        # x = torch.Tensor(x)\n",
    "        # print(x)\n",
    "        # return np.array([self.model(sample).argmax().item() for sample in x])\n",
    "    \n",
    "\n",
    "seed = 112\n",
    "current_script_path = Path(\"./\").resolve()\n",
    "print(current_script_path)\n",
    "x_train, _, x_test, _, _, _, train_df, test_data = prepare_letter(sweep=False, seed=seed)\n",
    "\n",
    "# Get the feature names after one-hot encoding\n",
    "feature_names = list(train_df.drop(columns=[\"letter\"]).columns)\n",
    "\n",
    "bb_path = \"../../../artifacts/letter/bb/letter_BB.pth\"\n",
    "bb = load_bb(bb_path)\n",
    "\n",
    "bb.to(\"cpu\")\n"
   ]
  },
  {
   "cell_type": "code",
   "execution_count": 95,
   "metadata": {},
   "outputs": [],
   "source": [
    "import copy \n",
    "\n",
    "train_df_tmp = copy.copy(train_df)\n",
    "train_df_tmp = train_df_tmp.drop(columns=[\"letter\"])\n",
    "\n",
    "scaler = MinMaxScaler()\n",
    "x_train = scaler.fit_transform(train_df_tmp)"
   ]
  },
  {
   "cell_type": "code",
   "execution_count": 96,
   "metadata": {},
   "outputs": [],
   "source": [
    "model = MyModel(model=bb, scaler=scaler)\n",
    "\n",
    "num_classes = 2"
   ]
  },
  {
   "cell_type": "code",
   "execution_count": 97,
   "metadata": {},
   "outputs": [],
   "source": [
    "train_df[\"letter\"] = [int(x) for x in train_df[\"letter\"]]"
   ]
  },
  {
   "cell_type": "code",
   "execution_count": 98,
   "metadata": {},
   "outputs": [],
   "source": [
    "train_df[\"letter\"] = train_df[\"letter\"].astype('category')"
   ]
  },
  {
   "cell_type": "code",
   "execution_count": null,
   "metadata": {},
   "outputs": [],
   "source": [
    "dataset = TabularDataset.from_dict(train_df, class_name = \"letter\")\n",
    "dataset.df.dropna(inplace = True)\n",
    "dataset.df"
   ]
  },
  {
   "cell_type": "code",
   "execution_count": null,
   "metadata": {},
   "outputs": [],
   "source": [
    "dataset.descriptor.keys()"
   ]
  },
  {
   "cell_type": "code",
   "execution_count": 101,
   "metadata": {},
   "outputs": [],
   "source": [
    "from lore_sa.bbox import sklearn_classifier_bbox"
   ]
  },
  {
   "cell_type": "code",
   "execution_count": 102,
   "metadata": {},
   "outputs": [],
   "source": [
    "bbox = sklearn_classifier_bbox.sklearnBBox(model)"
   ]
  },
  {
   "cell_type": "code",
   "execution_count": 103,
   "metadata": {},
   "outputs": [],
   "source": [
    "from lore_sa.lore import TabularRandomGeneratorLore\n",
    "\n",
    "tabularLore = TabularRandomGeneratorLore(bbox, dataset)"
   ]
  },
  {
   "cell_type": "code",
   "execution_count": null,
   "metadata": {},
   "outputs": [],
   "source": [
    "num_row = 10\n",
    "x = dataset.df.iloc[num_row][:-1] # we exclude the target feature\n",
    "x"
   ]
  },
  {
   "cell_type": "code",
   "execution_count": 105,
   "metadata": {},
   "outputs": [],
   "source": [
    "# for i in range(0, 100):\n",
    "#     x = dataset.df.iloc[i][:-1] # we exclude the target feature\n",
    "#     print(bb(torch.Tensor(scaler.transform(np.array(x.values).reshape(1, -1)))).argmax())"
   ]
  },
  {
   "cell_type": "code",
   "execution_count": 106,
   "metadata": {},
   "outputs": [],
   "source": [
    "num_rows = 100\n",
    "multi_x = dataset.df.iloc[:num_row] # we exclude the target feature\n",
    "multi_x = multi_x.drop(columns = [\"letter\"])"
   ]
  },
  {
   "cell_type": "code",
   "execution_count": null,
   "metadata": {},
   "outputs": [],
   "source": [
    "bb(torch.Tensor(scaler.transform(np.array(x.values).reshape(1, -1)))).argmax()"
   ]
  },
  {
   "cell_type": "code",
   "execution_count": null,
   "metadata": {},
   "outputs": [],
   "source": [
    "model.predict(multi_x)"
   ]
  },
  {
   "cell_type": "code",
   "execution_count": null,
   "metadata": {},
   "outputs": [],
   "source": [
    "dataset.descriptor.keys()"
   ]
  },
  {
   "cell_type": "code",
   "execution_count": null,
   "metadata": {},
   "outputs": [],
   "source": [
    "dataset.descriptor[\"target\"]"
   ]
  },
  {
   "cell_type": "code",
   "execution_count": null,
   "metadata": {},
   "outputs": [],
   "source": [
    "# when\n",
    "explanation = tabularLore.explain(x)\n",
    "# then\n",
    "print(explanation)"
   ]
  },
  {
   "cell_type": "code",
   "execution_count": null,
   "metadata": {},
   "outputs": [],
   "source": [
    "for premise in explanation[\"rule\"]['premises']:\n",
    "    print(premise[\"attr\"])"
   ]
  },
  {
   "cell_type": "code",
   "execution_count": 113,
   "metadata": {},
   "outputs": [],
   "source": [
    "with open(\"/home/lcorbucci/synth_xai/artifacts/adult/comparison_explanation/lore/lore_1.pkl\", \"rb\") as f:\n",
    "    shap_explanation = dill.load(f)"
   ]
  },
  {
   "cell_type": "code",
   "execution_count": null,
   "metadata": {},
   "outputs": [],
   "source": [
    "shap_explanation[1]"
   ]
  },
  {
   "cell_type": "code",
   "execution_count": null,
   "metadata": {},
   "outputs": [],
   "source": []
  },
  {
   "cell_type": "markdown",
   "metadata": {},
   "source": [
    "# Load Shap explanation"
   ]
  },
  {
   "cell_type": "code",
   "execution_count": 116,
   "metadata": {},
   "outputs": [],
   "source": [
    "with open(\"/home/lcorbucci/synth_xai/artifacts/adult/comparison_explanation/shap/shap_1.pkl\", \"rb\") as f:\n",
    "    shap_explanation = dill.load(f)"
   ]
  },
  {
   "cell_type": "code",
   "execution_count": null,
   "metadata": {},
   "outputs": [],
   "source": [
    "shap_explanation[0][0]"
   ]
  },
  {
   "cell_type": "code",
   "execution_count": 118,
   "metadata": {},
   "outputs": [],
   "source": [
    "class aix_model:\n",
    "    def __init__(self, model: torch.nn.Module) -> None:\n",
    "        self.model = model\n",
    "\n",
    "    def predict(self, x: np.ndarray) -> torch.Tensor:\n",
    "        x = torch.Tensor(x)\n",
    "        return self.model(x).argmax(dim=1)\n",
    "\n",
    "    def predict_proba(self, x: np.ndarray) -> np.ndarray:\n",
    "        # since the activation function of the last layer is LogSoftmax\n",
    "        # we need to apply the exponential to the output of the model\n",
    "        # cast x to be a Tensor\n",
    "        x = torch.Tensor(x)\n",
    "        return torch.nn.functional.softmax(self.model(x)).detach().numpy()\n"
   ]
  },
  {
   "cell_type": "code",
   "execution_count": 119,
   "metadata": {},
   "outputs": [],
   "source": [
    "seed = 112\n",
    "current_script_path = Path(\"./\").resolve()\n",
    "\n",
    "x_train, _, x_test, _, _, _, train_df, test_data = prepare_adult(sweep=False, seed=seed, current_path=current_script_path)\n",
    "scaler = MinMaxScaler()\n",
    "_ = scaler.fit_transform(x_train)\n",
    "\n",
    "# Get the feature names after one-hot encoding\n",
    "feature_names = list(train_df.drop(columns=[\"income_binary\"]).columns)\n",
    "\n",
    "# Identify categorical features (before one-hot encoding)\n",
    "categorical_features = [\n",
    "    train_df.columns.get_loc(col)\n",
    "    for col in [\"workclass\", \"education\", \"marital-status\", \"occupation\", \"relationship\", \"race\", \"sex\", \"native-country\"]\n",
    "    if col in train_df.columns\n",
    "]\n",
    "\n",
    "# Define the class names\n",
    "class_names = [\"<=50K\", \">50K\"]"
   ]
  },
  {
   "cell_type": "code",
   "execution_count": 120,
   "metadata": {},
   "outputs": [],
   "source": [
    "# Initialize LimeTabularExplainer\n",
    "explainer = LimeTabularExplainer(\n",
    "    x_train,  # Unscaled training data\n",
    "    mode=\"classification\",\n",
    "    feature_names=feature_names,\n",
    "    categorical_features=categorical_features,\n",
    "    class_names=class_names,\n",
    "    discretize_continuous=True,  # Discretize continuous features for better interpretability\n",
    ")"
   ]
  },
  {
   "cell_type": "code",
   "execution_count": 121,
   "metadata": {},
   "outputs": [],
   "source": [
    "bb_path = \"../../../artifacts/adult/bb/adult_BB.pth\"\n",
    "bb = load_bb(bb_path)"
   ]
  },
  {
   "cell_type": "code",
   "execution_count": 122,
   "metadata": {},
   "outputs": [],
   "source": [
    "bb.to(\"cpu\")\n",
    "model = aix_model(model=bb)\n",
    "# model = bb"
   ]
  },
  {
   "cell_type": "code",
   "execution_count": 123,
   "metadata": {},
   "outputs": [],
   "source": [
    "def predict_fn(x: np.ndarray) -> np.ndarray:\n",
    "        model.model.to(\"cpu\")\n",
    "        prediction = model.predict_proba(x)\n",
    "        return prediction"
   ]
  },
  {
   "cell_type": "code",
   "execution_count": null,
   "metadata": {},
   "outputs": [],
   "source": [
    "# Generate explanation\n",
    "sample_idx = 127  # Choose any index from x_test\n",
    "sample = np.array(x_test[sample_idx])\n",
    "explanation = explainer.explain_instance(sample, predict_fn, num_features=10)\n",
    "explanation.as_list()\n",
    "explanation.local_pred"
   ]
  },
  {
   "cell_type": "code",
   "execution_count": null,
   "metadata": {},
   "outputs": [],
   "source": [
    "explanation.as_list()"
   ]
  },
  {
   "cell_type": "code",
   "execution_count": null,
   "metadata": {},
   "outputs": [],
   "source": [
    "explanation.score"
   ]
  },
  {
   "cell_type": "code",
   "execution_count": null,
   "metadata": {},
   "outputs": [],
   "source": [
    "import re \n",
    "feature_names = [feature for feature, weight in explanation.as_list()]\n",
    "clean_features = [re.sub(r'[<>]=?|\\d+(\\.\\d+)?', '', feature).strip() for feature in feature_names]\n",
    "\n",
    "clean_features"
   ]
  },
  {
   "cell_type": "code",
   "execution_count": null,
   "metadata": {},
   "outputs": [],
   "source": [
    "store_path = \"/home/lcorbucci/synth_xai/artifacts/adult/comparison_explanation/lime/\"\n",
    "file_name = \"lime_1.pkl\"\n",
    "store_path = Path(store_path) / file_name\n",
    "with Path(store_path).open(\"rb\") as f:\n",
    "    explanation = dill.load(f)\n"
   ]
  },
  {
   "cell_type": "code",
   "execution_count": null,
   "metadata": {},
   "outputs": [],
   "source": [
    "explanation[45][2]"
   ]
  },
  {
   "cell_type": "code",
   "execution_count": null,
   "metadata": {},
   "outputs": [],
   "source": [
    "store_path = \"/home/lcorbucci/synth_xai/artifacts/adult/comparison_explanation/lime/\"\n",
    "file_name = \"lime_2.pkl\"\n",
    "store_path = Path(store_path) / file_name\n",
    "with Path(store_path).open(\"rb\") as f:\n",
    "    explanation = dill.load(f)\n"
   ]
  },
  {
   "cell_type": "code",
   "execution_count": null,
   "metadata": {},
   "outputs": [],
   "source": [
    "explanation[45][2]"
   ]
  },
  {
   "cell_type": "code",
   "execution_count": null,
   "metadata": {},
   "outputs": [],
   "source": [
    "store_path = \"/home/lcorbucci/synth_xai/artifacts/adult/explanations/\"\n",
    "file_name = \"dt_tvae_100000_2500_1.pkl\"\n",
    "store_path = Path(store_path) / file_name\n",
    "with Path(store_path).open(\"rb\") as f:\n",
    "    explanation = dill.load(f)\n"
   ]
  },
  {
   "cell_type": "markdown",
   "metadata": {},
   "source": [
    "# Shap"
   ]
  },
  {
   "cell_type": "code",
   "execution_count": null,
   "metadata": {},
   "outputs": [],
   "source": [
    "from pathlib import Path\n",
    "\n",
    "import numpy as np\n",
    "import torch\n",
    "import shap\n",
    "\n",
    "from synth_xai.bb_architectures import MultiClassModel, SimpleModel\n",
    "from synth_xai.explanations.explanation_utils import load_bb\n",
    "from synth_xai.utils import prepare_adult\n",
    "from sklearn.cluster import KMeans"
   ]
  },
  {
   "cell_type": "code",
   "execution_count": null,
   "metadata": {},
   "outputs": [],
   "source": [
    "np.empty((0,2))"
   ]
  },
  {
   "cell_type": "code",
   "execution_count": null,
   "metadata": {},
   "outputs": [],
   "source": [
    "# def get_representative_samples(dataset,samples_per_class=5):\n",
    "#     '''this function is used to get the representative samples of the dataset. but in a different way.\n",
    "#     First there is a clustering of all the data. The best k is retrieved using the elbow method.\n",
    "#     Then, for each cluster we order the samples by the distance from the centroid in 4 bins.\n",
    "#     Then we take some samples of each bin as the representative sample of the cluster, (in order to have the label)'''\n",
    "#     # print(dataset.tensors[1].shape,\"shape of the labels\")\n",
    "#     num_classes = 2\n",
    "#     representative_samples = np.empty((0,dataset.shape[1]))\n",
    "#     labels = np.empty((0,num_classes))\n",
    "#     # create the kmeans object\n",
    "#     inertias = []\n",
    "#     max_K = min(12,dataset.shape[0])\n",
    "#     for i in range(2,max_K):\n",
    "#         kmeans = KMeans(n_clusters=i, random_state=42,n_init=3)\n",
    "#         kmeans.fit(dataset)\n",
    "#         # get the centroids of the clusters\n",
    "#         inertias.append(kmeans.inertia_)\n",
    "\n",
    "#     # coupute the best k\n",
    "#     inertias_diff = np.diff(inertias)\n",
    "#     # find the last highest difference\n",
    "#     k = inertias_diff[::-1].argmax()\n",
    "#     k = len(inertias) - k\n",
    "#     print(\"best k:\",k)\n",
    "#     # plot the elbow plot\n",
    "\n",
    "#     kmeans = KMeans(n_clusters=k, random_state=42,n_init=3)\n",
    "#     kmeans.fit(dataset)\n",
    "#     # get the centroids of the clusters\n",
    "#     centroids = kmeans.cluster_centers_\n",
    "#     # get the samples that are mapped to each cluster\n",
    "#     labels = kmeans.labels_\n",
    "#     representative_labels = np.empty((0,num_classes))\n",
    "#     for cluster in range(k):\n",
    "#         # get the samples of the cluster\n",
    "#         cluster_samples = dataset[labels==cluster,:]\n",
    "#         # get the distances of the samples from the centroid\n",
    "#         distances = np.linalg.norm(cluster_samples-centroids[cluster],axis=1)\n",
    "#         # order the samples in 4 bins using again KMeans, but on the distances\n",
    "#         kkkk = min(4,cluster_samples.shape[0])\n",
    "#         kmeans = KMeans(n_clusters=kkkk, random_state=42,n_init=3)\n",
    "#         kmeans.fit(distances.reshape(-1,1))\n",
    "#         ordered_samples = cluster_samples[np.argsort(kmeans.labels_)]\n",
    "\n",
    "        \n",
    "#         # divide the samples in 4 bins\n",
    "#         bins = [ordered_samples[kmeans.labels_==i] for i in range(4)]\n",
    "#         # plot the number of samples in each bin\n",
    "    \n",
    "#         original_labels_of_cluster = dataset[labels==cluster,:]\n",
    "#         print(original_labels_of_cluster)\n",
    "        \n",
    "                                            \n",
    "#         # take the first sample of each bin, and its relative label\n",
    "#         for d_i in range(4):\n",
    "#             # if there are no samples in the bin, skip it\n",
    "#             if len(bins[d_i]) == 0:\n",
    "#                 continue\n",
    "#             # choose a random sample from the bin\n",
    "#             rnd_sample = 0#np.random.choice(bins[d_i])\n",
    "#             representative_samples = np.vstack((representative_samples,bins[d_i][rnd_sample]))\n",
    "#             print(original_labels_of_cluster[rnd_sample,:])\n",
    "#             print(representative_labels)\n",
    "#             representative_labels = np.vstack([representative_labels,\n",
    "#                                                 original_labels_of_cluster[rnd_sample,:]])\n",
    "                                    \n",
    "#     print(representative_samples.shape,representative_labels.shape)\n",
    "#     return representative_samples,representative_labels"
   ]
  },
  {
   "cell_type": "code",
   "execution_count": null,
   "metadata": {},
   "outputs": [],
   "source": [
    "# feats, labs = get_representative_samples(x_train[0:40], samples_per_class=30//num_classes)"
   ]
  },
  {
   "cell_type": "code",
   "execution_count": null,
   "metadata": {},
   "outputs": [],
   "source": []
  },
  {
   "cell_type": "code",
   "execution_count": null,
   "metadata": {},
   "outputs": [],
   "source": [
    "class aix_model:\n",
    "    def __init__(self, model: torch.nn.Module) -> None:\n",
    "        self.model = model\n",
    "\n",
    "    def predict(self, x: np.ndarray) -> torch.Tensor:\n",
    "        x = torch.Tensor(x)\n",
    "        return self.model(x).argmax(dim=1)\n",
    "\n",
    "    def predict_proba(self, x: np.ndarray) -> np.ndarray:\n",
    "        # since the activation function of the last layer is LogSoftmax\n",
    "        # we need to apply the exponential to the output of the model\n",
    "        x = torch.Tensor(x)\n",
    "        return torch.nn.functional.softmax(self.model(x), dim=1).detach().numpy()\n",
    "\n",
    "seed = 112\n",
    "current_script_path = Path(\"./\").resolve()\n",
    "print(current_script_path)\n",
    "x_train, _, x_test, _, _, _, train_df, test_data = prepare_adult(sweep=False, seed=seed, current_path=current_script_path)\n",
    "\n",
    "# Get the feature names after one-hot encoding\n",
    "feature_names = list(train_df.drop(columns=[\"income_binary\"]).columns)\n",
    "\n",
    "bb_path = \"../../../artifacts/adult/bb/adult_BB.pth\"\n",
    "bb = load_bb(bb_path)\n",
    "\n",
    "bb.to(\"cpu\")\n",
    "model = aix_model(model=bb)\n",
    "\n",
    "num_classes = 2"
   ]
  },
  {
   "cell_type": "code",
   "execution_count": null,
   "metadata": {},
   "outputs": [],
   "source": []
  },
  {
   "cell_type": "code",
   "execution_count": null,
   "metadata": {},
   "outputs": [],
   "source": [
    "# Define SHAP explainer\n",
    "# explainer = shap.Explainer(model.predict_proba, x_test)\n",
    "explainer = shap.KernelExplainer(model.predict_proba, data=shap.kmeans(x_test, 20))"
   ]
  },
  {
   "cell_type": "code",
   "execution_count": null,
   "metadata": {},
   "outputs": [],
   "source": [
    "\n",
    "# Generate explanation\n",
    "sample_idx = 4  # Choose any index from x_test\n",
    "sample = x_test[sample_idx:sample_idx+1]  # Keep sample as a batch\n",
    "shap_values = explainer(sample)"
   ]
  },
  {
   "cell_type": "code",
   "execution_count": null,
   "metadata": {},
   "outputs": [],
   "source": [
    "sample"
   ]
  },
  {
   "cell_type": "code",
   "execution_count": null,
   "metadata": {},
   "outputs": [],
   "source": [
    "predicted_class = model.predict(sample)\n",
    "predicted_class = predicted_class.item()\n",
    "predicted_class"
   ]
  },
  {
   "cell_type": "code",
   "execution_count": null,
   "metadata": {},
   "outputs": [],
   "source": [
    "# shap.plots.watearfall(shap_values[0,:,predicted_class])"
   ]
  },
  {
   "cell_type": "code",
   "execution_count": null,
   "metadata": {},
   "outputs": [],
   "source": [
    "shap_values.values[0,:,predicted_class]"
   ]
  },
  {
   "cell_type": "code",
   "execution_count": null,
   "metadata": {},
   "outputs": [],
   "source": [
    "feature_importance = shap_values[0,:,predicted_class].values"
   ]
  },
  {
   "cell_type": "code",
   "execution_count": null,
   "metadata": {},
   "outputs": [],
   "source": [
    "feature_importance"
   ]
  },
  {
   "cell_type": "code",
   "execution_count": null,
   "metadata": {},
   "outputs": [],
   "source": [
    "list(zip(feature_names, feature_importance))"
   ]
  },
  {
   "cell_type": "code",
   "execution_count": null,
   "metadata": {},
   "outputs": [],
   "source": [
    "# get the feature names\n"
   ]
  },
  {
   "cell_type": "markdown",
   "metadata": {},
   "source": [
    "# Simple example with Adult"
   ]
  },
  {
   "cell_type": "code",
   "execution_count": null,
   "metadata": {},
   "outputs": [],
   "source": [
    "import sklearn\n",
    "import sklearn.datasets\n",
    "import sklearn.ensemble\n",
    "import numpy as np\n",
    "import lime\n",
    "import lime.lime_tabular\n",
    "from __future__ import print_function\n",
    "np.random.seed(1)"
   ]
  },
  {
   "cell_type": "code",
   "execution_count": null,
   "metadata": {},
   "outputs": [],
   "source": [
    "feature_names = [\"Age\", \"Workclass\", \"fnlwgt\", \"Education\", \"Education-Num\", \"Marital Status\",\"Occupation\", \"Relationship\", \"Race\", \"Sex\", \"Capital Gain\", \"Capital Loss\",\"Hours per week\", \"Country\"]"
   ]
  },
  {
   "cell_type": "code",
   "execution_count": null,
   "metadata": {},
   "outputs": [],
   "source": [
    "data = np.genfromtxt('./adult.data', delimiter=', ', dtype=str)"
   ]
  },
  {
   "cell_type": "code",
   "execution_count": null,
   "metadata": {},
   "outputs": [],
   "source": [
    "labels = data[:,14]\n",
    "le= sklearn.preprocessing.LabelEncoder()\n",
    "le.fit(labels)\n",
    "labels = le.transform(labels)\n",
    "class_names = le.classes_\n",
    "data = data[:,:-1]"
   ]
  },
  {
   "cell_type": "code",
   "execution_count": null,
   "metadata": {},
   "outputs": [],
   "source": [
    "categorical_features = [1,3,5, 6,7,8,9,13]"
   ]
  },
  {
   "cell_type": "code",
   "execution_count": null,
   "metadata": {},
   "outputs": [],
   "source": [
    "categorical_names = {}\n",
    "for feature in categorical_features:\n",
    "    le = sklearn.preprocessing.LabelEncoder()\n",
    "    le.fit(data[:, feature])\n",
    "    data[:, feature] = le.transform(data[:, feature])\n",
    "    categorical_names[feature] = le.classes_\n"
   ]
  },
  {
   "cell_type": "code",
   "execution_count": null,
   "metadata": {},
   "outputs": [],
   "source": [
    "data = data.astype(float)"
   ]
  },
  {
   "cell_type": "code",
   "execution_count": null,
   "metadata": {},
   "outputs": [],
   "source": [
    "from sklearn.compose import ColumnTransformer\n",
    "\n",
    "encoder = ColumnTransformer(\n",
    "\ttransformers=[\n",
    "\t\t('cat', sklearn.preprocessing.OneHotEncoder(), categorical_features)\n",
    "\t],\n",
    "\tremainder='passthrough'\n",
    ")"
   ]
  },
  {
   "cell_type": "code",
   "execution_count": null,
   "metadata": {},
   "outputs": [],
   "source": [
    "np.random.seed(1)\n",
    "train, test, labels_train, labels_test = sklearn.model_selection.train_test_split(data, labels, train_size=0.80)\n"
   ]
  },
  {
   "cell_type": "code",
   "execution_count": null,
   "metadata": {},
   "outputs": [],
   "source": [
    "encoder.fit(data)\n",
    "encoded_train = encoder.transform(train)"
   ]
  },
  {
   "cell_type": "code",
   "execution_count": null,
   "metadata": {},
   "outputs": [],
   "source": [
    "import xgboost\n",
    "gbtree = xgboost.XGBClassifier(n_estimators=300, max_depth=5)\n",
    "gbtree.fit(encoded_train, labels_train)"
   ]
  },
  {
   "cell_type": "code",
   "execution_count": null,
   "metadata": {},
   "outputs": [],
   "source": [
    "sklearn.metrics.accuracy_score(labels_test, gbtree.predict(encoder.transform(test)))"
   ]
  },
  {
   "cell_type": "code",
   "execution_count": null,
   "metadata": {},
   "outputs": [],
   "source": [
    "predict_fn = lambda x: gbtree.predict_proba(encoder.transform(x)).astype(float)"
   ]
  },
  {
   "cell_type": "code",
   "execution_count": null,
   "metadata": {},
   "outputs": [],
   "source": [
    "train"
   ]
  },
  {
   "cell_type": "code",
   "execution_count": null,
   "metadata": {},
   "outputs": [],
   "source": [
    "explainer = lime.lime_tabular.LimeTabularExplainer(train ,feature_names = feature_names,class_names=class_names,\n",
    "                                                   categorical_features=categorical_features, \n",
    "                                                   categorical_names=categorical_names, kernel_width=3)"
   ]
  },
  {
   "cell_type": "code",
   "execution_count": null,
   "metadata": {},
   "outputs": [],
   "source": [
    "np.random.seed(1)\n",
    "i = 1\n",
    "exp = explainer.explain_instance(test[i], predict_fn, num_features=5)\n",
    "exp.show_in_notebook(show_all=False)"
   ]
  },
  {
   "cell_type": "code",
   "execution_count": null,
   "metadata": {},
   "outputs": [],
   "source": [
    "test[i]"
   ]
  },
  {
   "cell_type": "code",
   "execution_count": null,
   "metadata": {},
   "outputs": [],
   "source": [
    "exp.local_pred"
   ]
  }
 ],
 "metadata": {
  "kernelspec": {
   "display_name": ".venv",
   "language": "python",
   "name": "python3"
  },
  "language_info": {
   "codemirror_mode": {
    "name": "ipython",
    "version": 3
   },
   "file_extension": ".py",
   "mimetype": "text/x-python",
   "name": "python",
   "nbconvert_exporter": "python",
   "pygments_lexer": "ipython3",
   "version": "3.10.12"
  }
 },
 "nbformat": 4,
 "nbformat_minor": 2
}
