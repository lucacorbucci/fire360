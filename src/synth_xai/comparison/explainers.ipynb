{
 "cells": [
  {
   "cell_type": "code",
   "execution_count": 1,
   "metadata": {},
   "outputs": [
    {
     "name": "stderr",
     "output_type": "stream",
     "text": [
      "/home/lcorbucci/synth_xai/.venv/lib/python3.10/site-packages/tqdm/auto.py:21: TqdmWarning: IProgress not found. Please update jupyter and ipywidgets. See https://ipywidgets.readthedocs.io/en/stable/user_install.html\n",
      "  from .autonotebook import tqdm as notebook_tqdm\n"
     ]
    }
   ],
   "source": [
    "import numpy as np\n",
    "import pandas as pd\n",
    "from sklearn.pipeline import make_pipeline\n",
    "from sklearn.ensemble import RandomForestClassifier\n",
    "from sklearn.preprocessing import StandardScaler, LabelEncoder\n",
    "from lime.lime_tabular import LimeTabularExplainer\n",
    "\n",
    "import argparse\n",
    "import datetime\n",
    "import random\n",
    "import signal\n",
    "import sys\n",
    "import warnings\n",
    "from collections import Counter\n",
    "from functools import partial\n",
    "from pathlib import Path\n",
    "from types import FrameType\n",
    "from typing import Any\n",
    "\n",
    "import dill\n",
    "import multiprocess\n",
    "import numpy as np\n",
    "import pandas as pd\n",
    "import torch\n",
    "from synth_xai.explanations.explanation_utils import (\n",
    "    evaluate_bb,\n",
    "    find_top_closest_rows,\n",
    "    get_test_data,\n",
    "    is_explainer_supported,\n",
    "    label_synthetic_data,\n",
    "    load_bb,\n",
    "    load_synthetic_data,\n",
    "    make_predictions,\n",
    "    prepare_neighbours,\n",
    "    setup_wandb,\n",
    "    transform_input_data,\n",
    ")\n",
    "from loguru import logger\n",
    "from multiprocess import Pool\n",
    "from sklearn.metrics import accuracy_score, f1_score\n",
    "from sklearn.model_selection import GridSearchCV, train_test_split\n",
    "from sklearn.preprocessing import (\n",
    "    MinMaxScaler,\n",
    ")\n",
    "\n",
    "from synth_xai.bb_architectures import MultiClassModel, SimpleModel\n",
    "from synth_xai.explanations.explainer_model import ExplainerModel\n",
    "from synth_xai.utils import (\n",
    "    prepare_adult,\n",
    ")"
   ]
  },
  {
   "cell_type": "code",
   "execution_count": 2,
   "metadata": {},
   "outputs": [],
   "source": [
    "class aix_model:\n",
    "    def __init__(self, model: torch.nn.Module) -> None:\n",
    "        self.model = model\n",
    "\n",
    "    def predict(self, x: np.ndarray) -> torch.Tensor:\n",
    "        x = torch.Tensor(x)\n",
    "        return self.model(x).argmax(dim=1)\n",
    "\n",
    "    def predict_proba(self, x: np.ndarray) -> np.ndarray:\n",
    "        # since the activation function of the last layer is LogSoftmax\n",
    "        # we need to apply the exponential to the output of the model\n",
    "        # cast x to be a Tensor\n",
    "        x = torch.Tensor(x)\n",
    "        return torch.nn.functional.softmax(self.model(x)).detach().numpy()\n"
   ]
  },
  {
   "cell_type": "code",
   "execution_count": 3,
   "metadata": {},
   "outputs": [],
   "source": [
    "seed = 112\n",
    "current_script_path = Path(\"./\").resolve()\n",
    "\n",
    "_, _, x_test, _, _, _, train_df, test_data = prepare_adult(sweep=False, seed=seed, current_path=current_script_path)\n",
    "\n",
    "\n",
    "# Get the feature names after one-hot encoding\n",
    "feature_names = list(train_df.drop(columns=[\"income_binary\"]).columns)\n",
    "\n",
    "# Identify categorical features (before one-hot encoding)\n",
    "categorical_features = [\n",
    "    train_df.columns.get_loc(col)\n",
    "    for col in [\"workclass\", \"education\", \"marital-status\", \"occupation\", \"relationship\", \"race\", \"sex\", \"native-country\"]\n",
    "    if col in train_df.columns\n",
    "]\n",
    "\n",
    "# Define the class names\n",
    "class_names = [\"<=50K\", \">50K\"]"
   ]
  },
  {
   "cell_type": "code",
   "execution_count": 4,
   "metadata": {},
   "outputs": [],
   "source": [
    "# Initialize LimeTabularExplainer\n",
    "explainer = LimeTabularExplainer(\n",
    "    train_df.drop(columns=[\"income_binary\"]).values,  # Unscaled training data\n",
    "    mode=\"classification\",\n",
    "    feature_names=feature_names,\n",
    "    categorical_features=categorical_features,\n",
    "    class_names=class_names,\n",
    "    discretize_continuous=True,  # Discretize continuous features for better interpretability\n",
    ")"
   ]
  },
  {
   "cell_type": "code",
   "execution_count": 5,
   "metadata": {},
   "outputs": [],
   "source": [
    "bb_path = \"../../../artifacts/adult/bb/adult_BB.pth\"\n",
    "bb = load_bb(bb_path)"
   ]
  },
  {
   "cell_type": "code",
   "execution_count": 6,
   "metadata": {},
   "outputs": [],
   "source": [
    "bb.to(\"cpu\")\n",
    "model = aix_model(model=bb)"
   ]
  },
  {
   "cell_type": "code",
   "execution_count": 7,
   "metadata": {},
   "outputs": [],
   "source": [
    "# Define a wrapper function for prediction (LIME expects probability outputs)\n",
    "def predict_fn(x):\n",
    "    return model.predict_proba(x)"
   ]
  },
  {
   "cell_type": "code",
   "execution_count": 8,
   "metadata": {},
   "outputs": [
    {
     "data": {
      "text/plain": [
       "[('race_ Black > 0.00', -0.0023360584168073927),\n",
       " ('occupation_ Sales > 0.00', -0.0017778200308074396),\n",
       " ('relationship_ Own-child > 0.00', -0.0013895801602106695),\n",
       " ('education_ Bachelors > 0.00', -0.001265049323201768),\n",
       " ('fnlwgt <= 117627.75', -0.000871996831046423),\n",
       " ('native-country_ Ireland <= 0.00', -0.000844212313454104),\n",
       " ('age <= 28.00', -0.0008435032012465599),\n",
       " ('native-country_ Honduras <= 0.00', 0.0007137728935998556),\n",
       " ('native-country_ Jamaica <= 0.00', -0.000538104501036255),\n",
       " ('native-country_ Portugal <= 0.00', -0.0004994773366007075)]"
      ]
     },
     "execution_count": 8,
     "metadata": {},
     "output_type": "execute_result"
    }
   ],
   "source": [
    "# Generate explanation\n",
    "sample_idx = 4  # Choose any index from x_test\n",
    "sample = x_test[sample_idx]\n",
    "explanation = explainer.explain_instance(sample, predict_fn, num_features=10)\n",
    "explanation.as_list()"
   ]
  },
  {
   "cell_type": "code",
   "execution_count": 9,
   "metadata": {},
   "outputs": [
    {
     "data": {
      "text/plain": [
       "array([0.99263379])"
      ]
     },
     "execution_count": 9,
     "metadata": {},
     "output_type": "execute_result"
    }
   ],
   "source": [
    "explanation.local_pred"
   ]
  },
  {
   "cell_type": "code",
   "execution_count": null,
   "metadata": {},
   "outputs": [],
   "source": []
  },
  {
   "cell_type": "markdown",
   "metadata": {},
   "source": [
    "# Shap"
   ]
  },
  {
   "cell_type": "code",
   "execution_count": 86,
   "metadata": {},
   "outputs": [],
   "source": [
    "from pathlib import Path\n",
    "\n",
    "import numpy as np\n",
    "import torch\n",
    "import shap\n",
    "\n",
    "from synth_xai.bb_architectures import MultiClassModel, SimpleModel\n",
    "from synth_xai.explanations.explanation_utils import load_bb\n",
    "from synth_xai.utils import prepare_adult\n",
    "from sklearn.cluster import KMeans"
   ]
  },
  {
   "cell_type": "code",
   "execution_count": 108,
   "metadata": {},
   "outputs": [
    {
     "data": {
      "text/plain": [
       "array([], shape=(0, 2), dtype=float64)"
      ]
     },
     "execution_count": 108,
     "metadata": {},
     "output_type": "execute_result"
    }
   ],
   "source": [
    "np.empty((0,2))"
   ]
  },
  {
   "cell_type": "code",
   "execution_count": 106,
   "metadata": {},
   "outputs": [],
   "source": [
    "def get_representative_samples(dataset,samples_per_class=5):\n",
    "    '''this function is used to get the representative samples of the dataset. but in a different way.\n",
    "    First there is a clustering of all the data. The best k is retrieved using the elbow method.\n",
    "    Then, for each cluster we order the samples by the distance from the centroid in 4 bins.\n",
    "    Then we take some samples of each bin as the representative sample of the cluster, (in order to have the label)'''\n",
    "    # print(dataset.tensors[1].shape,\"shape of the labels\")\n",
    "    num_classes = 2\n",
    "    representative_samples = np.empty((0,dataset.shape[1]))\n",
    "    labels = np.empty((0,num_classes))\n",
    "    # create the kmeans object\n",
    "    inertias = []\n",
    "    max_K = min(12,dataset.shape[0])\n",
    "    for i in range(2,max_K):\n",
    "        kmeans = KMeans(n_clusters=i, random_state=42,n_init=3)\n",
    "        kmeans.fit(dataset)\n",
    "        # get the centroids of the clusters\n",
    "        inertias.append(kmeans.inertia_)\n",
    "\n",
    "    # coupute the best k\n",
    "    inertias_diff = np.diff(inertias)\n",
    "    # find the last highest difference\n",
    "    k = inertias_diff[::-1].argmax()\n",
    "    k = len(inertias) - k\n",
    "    print(\"best k:\",k)\n",
    "    # plot the elbow plot\n",
    "\n",
    "    kmeans = KMeans(n_clusters=k, random_state=42,n_init=3)\n",
    "    kmeans.fit(dataset)\n",
    "    # get the centroids of the clusters\n",
    "    centroids = kmeans.cluster_centers_\n",
    "    # get the samples that are mapped to each cluster\n",
    "    labels = kmeans.labels_\n",
    "    representative_labels = np.empty((0,num_classes))\n",
    "    for cluster in range(k):\n",
    "        # get the samples of the cluster\n",
    "        cluster_samples = dataset[labels==cluster,:]\n",
    "        # get the distances of the samples from the centroid\n",
    "        distances = np.linalg.norm(cluster_samples-centroids[cluster],axis=1)\n",
    "        # order the samples in 4 bins using again KMeans, but on the distances\n",
    "        kkkk = min(4,cluster_samples.shape[0])\n",
    "        kmeans = KMeans(n_clusters=kkkk, random_state=42,n_init=3)\n",
    "        kmeans.fit(distances.reshape(-1,1))\n",
    "        ordered_samples = cluster_samples[np.argsort(kmeans.labels_)]\n",
    "\n",
    "        \n",
    "        # divide the samples in 4 bins\n",
    "        bins = [ordered_samples[kmeans.labels_==i] for i in range(4)]\n",
    "        # plot the number of samples in each bin\n",
    "    \n",
    "        original_labels_of_cluster = dataset[labels==cluster,:]\n",
    "        print(original_labels_of_cluster)\n",
    "        \n",
    "                                            \n",
    "        # take the first sample of each bin, and its relative label\n",
    "        for d_i in range(4):\n",
    "            # if there are no samples in the bin, skip it\n",
    "            if len(bins[d_i]) == 0:\n",
    "                continue\n",
    "            # choose a random sample from the bin\n",
    "            rnd_sample = 0#np.random.choice(bins[d_i])\n",
    "            representative_samples = np.vstack((representative_samples,bins[d_i][rnd_sample]))\n",
    "            print(original_labels_of_cluster[rnd_sample,:])\n",
    "            print(representative_labels)\n",
    "            representative_labels = np.vstack([representative_labels,\n",
    "                                                original_labels_of_cluster[rnd_sample,:]])\n",
    "                                    \n",
    "    print(representative_samples.shape,representative_labels.shape)\n",
    "    return representative_samples,representative_labels"
   ]
  },
  {
   "cell_type": "code",
   "execution_count": 107,
   "metadata": {},
   "outputs": [
    {
     "name": "stdout",
     "output_type": "stream",
     "text": [
      "best k: 9\n",
      "[0.5890411  0.07921846 0.6        0.         0.         0.39795918\n",
      " 1.         1.         0.         0.         1.         0.\n",
      " 0.         0.         0.         0.         0.         0.\n",
      " 0.         0.         0.         0.         0.         0.\n",
      " 0.         0.         0.         0.         0.         0.\n",
      " 0.         0.         0.         1.         0.         0.\n",
      " 1.         0.         0.         0.         0.         0.\n",
      " 0.         0.         0.         0.         0.         0.\n",
      " 0.         0.         0.         0.         0.         0.\n",
      " 1.         0.         1.         0.         0.         0.\n",
      " 0.         0.         0.         0.         0.         0.\n",
      " 1.         0.         1.         0.         0.         0.\n",
      " 0.         0.         0.         0.         0.         0.\n",
      " 0.         0.         0.         0.         0.         0.\n",
      " 0.         0.         0.         0.         0.         0.\n",
      " 0.         0.         0.         0.         0.         0.\n",
      " 0.         0.         0.         0.         0.         0.\n",
      " 0.         0.         0.         0.         0.         0.\n",
      " 1.         0.         0.        ]\n",
      "[]\n"
     ]
    },
    {
     "ename": "ValueError",
     "evalue": "all the input array dimensions except for the concatenation axis must match exactly, but along dimension 1, the array at index 0 has size 2 and the array at index 1 has size 111",
     "output_type": "error",
     "traceback": [
      "\u001b[0;31m---------------------------------------------------------------------------\u001b[0m",
      "\u001b[0;31mValueError\u001b[0m                                Traceback (most recent call last)",
      "Cell \u001b[0;32mIn[107], line 1\u001b[0m\n\u001b[0;32m----> 1\u001b[0m feats, labs \u001b[38;5;241m=\u001b[39m \u001b[43mget_representative_samples\u001b[49m\u001b[43m(\u001b[49m\u001b[43mx_train\u001b[49m\u001b[43m[\u001b[49m\u001b[38;5;241;43m0\u001b[39;49m\u001b[43m:\u001b[49m\u001b[38;5;241;43m40\u001b[39;49m\u001b[43m]\u001b[49m\u001b[43m,\u001b[49m\u001b[43m \u001b[49m\u001b[43msamples_per_class\u001b[49m\u001b[38;5;241;43m=\u001b[39;49m\u001b[38;5;241;43m30\u001b[39;49m\u001b[38;5;241;43m/\u001b[39;49m\u001b[38;5;241;43m/\u001b[39;49m\u001b[43mnum_classes\u001b[49m\u001b[43m)\u001b[49m\n",
      "Cell \u001b[0;32mIn[106], line 63\u001b[0m, in \u001b[0;36mget_representative_samples\u001b[0;34m(dataset, samples_per_class)\u001b[0m\n\u001b[1;32m     61\u001b[0m         \u001b[38;5;28mprint\u001b[39m(original_labels_of_cluster[rnd_sample,:])\n\u001b[1;32m     62\u001b[0m         \u001b[38;5;28mprint\u001b[39m(representative_labels)\n\u001b[0;32m---> 63\u001b[0m         representative_labels \u001b[38;5;241m=\u001b[39m \u001b[43mnp\u001b[49m\u001b[38;5;241;43m.\u001b[39;49m\u001b[43mvstack\u001b[49m\u001b[43m(\u001b[49m\u001b[43m[\u001b[49m\u001b[43mrepresentative_labels\u001b[49m\u001b[43m,\u001b[49m\n\u001b[1;32m     64\u001b[0m \u001b[43m                                            \u001b[49m\u001b[43moriginal_labels_of_cluster\u001b[49m\u001b[43m[\u001b[49m\u001b[43mrnd_sample\u001b[49m\u001b[43m,\u001b[49m\u001b[43m:\u001b[49m\u001b[43m]\u001b[49m\u001b[43m]\u001b[49m\u001b[43m)\u001b[49m\n\u001b[1;32m     66\u001b[0m \u001b[38;5;28mprint\u001b[39m(representative_samples\u001b[38;5;241m.\u001b[39mshape,representative_labels\u001b[38;5;241m.\u001b[39mshape)\n\u001b[1;32m     67\u001b[0m \u001b[38;5;28;01mreturn\u001b[39;00m representative_samples,representative_labels\n",
      "File \u001b[0;32m~/synth_xai/.venv/lib/python3.10/site-packages/numpy/core/shape_base.py:289\u001b[0m, in \u001b[0;36mvstack\u001b[0;34m(tup, dtype, casting)\u001b[0m\n\u001b[1;32m    287\u001b[0m \u001b[38;5;28;01mif\u001b[39;00m \u001b[38;5;129;01mnot\u001b[39;00m \u001b[38;5;28misinstance\u001b[39m(arrs, \u001b[38;5;28mlist\u001b[39m):\n\u001b[1;32m    288\u001b[0m     arrs \u001b[38;5;241m=\u001b[39m [arrs]\n\u001b[0;32m--> 289\u001b[0m \u001b[38;5;28;01mreturn\u001b[39;00m \u001b[43m_nx\u001b[49m\u001b[38;5;241;43m.\u001b[39;49m\u001b[43mconcatenate\u001b[49m\u001b[43m(\u001b[49m\u001b[43marrs\u001b[49m\u001b[43m,\u001b[49m\u001b[43m \u001b[49m\u001b[38;5;241;43m0\u001b[39;49m\u001b[43m,\u001b[49m\u001b[43m \u001b[49m\u001b[43mdtype\u001b[49m\u001b[38;5;241;43m=\u001b[39;49m\u001b[43mdtype\u001b[49m\u001b[43m,\u001b[49m\u001b[43m \u001b[49m\u001b[43mcasting\u001b[49m\u001b[38;5;241;43m=\u001b[39;49m\u001b[43mcasting\u001b[49m\u001b[43m)\u001b[49m\n",
      "\u001b[0;31mValueError\u001b[0m: all the input array dimensions except for the concatenation axis must match exactly, but along dimension 1, the array at index 0 has size 2 and the array at index 1 has size 111"
     ]
    }
   ],
   "source": [
    "feats, labs = get_representative_samples(x_train[0:40], samples_per_class=30//num_classes)"
   ]
  },
  {
   "cell_type": "code",
   "execution_count": 88,
   "metadata": {},
   "outputs": [],
   "source": [
    "class aix_model:\n",
    "    def __init__(self, model: torch.nn.Module) -> None:\n",
    "        self.model = model\n",
    "\n",
    "    def predict(self, x: np.ndarray) -> torch.Tensor:\n",
    "        x = torch.Tensor(x)\n",
    "        return self.model(x).argmax(dim=1)\n",
    "\n",
    "    def predict_proba(self, x: np.ndarray) -> np.ndarray:\n",
    "        # since the activation function of the last layer is LogSoftmax\n",
    "        # we need to apply the exponential to the output of the model\n",
    "        x = torch.Tensor(x)\n",
    "        return torch.nn.functional.softmax(self.model(x), dim=1).detach().numpy()"
   ]
  },
  {
   "cell_type": "code",
   "execution_count": 89,
   "metadata": {},
   "outputs": [
    {
     "name": "stdout",
     "output_type": "stream",
     "text": [
      "/home/lcorbucci/synth_xai/src/synth_xai/comparison\n"
     ]
    }
   ],
   "source": [
    "seed = 112\n",
    "current_script_path = Path(\"./\").resolve()\n",
    "print(current_script_path)\n",
    "x_train, _, x_test, _, _, _, train_df, test_data = prepare_adult(sweep=False, seed=seed, current_path=current_script_path)"
   ]
  },
  {
   "cell_type": "code",
   "execution_count": 90,
   "metadata": {},
   "outputs": [],
   "source": [
    "\n",
    "# Get the feature names after one-hot encoding\n",
    "feature_names = list(train_df.drop(columns=[\"income_binary\"]).columns)\n"
   ]
  },
  {
   "cell_type": "code",
   "execution_count": 91,
   "metadata": {},
   "outputs": [],
   "source": [
    "bb_path = \"../../../artifacts/adult/bb/adult_BB.pth\"\n",
    "bb = load_bb(bb_path)\n",
    "\n",
    "bb.to(\"cpu\")\n",
    "model = aix_model(model=bb)"
   ]
  },
  {
   "cell_type": "code",
   "execution_count": 92,
   "metadata": {},
   "outputs": [],
   "source": [
    "num_classes = 2"
   ]
  },
  {
   "cell_type": "code",
   "execution_count": 79,
   "metadata": {},
   "outputs": [],
   "source": [
    "# Define SHAP explainer\n",
    "# explainer = shap.Explainer(model.predict_proba, x_test)\n",
    "explainer = shap.KernelExplainer(model.predict_proba, data=shap.kmeans(x_test, 20))"
   ]
  },
  {
   "cell_type": "code",
   "execution_count": null,
   "metadata": {},
   "outputs": [
    {
     "name": "stderr",
     "output_type": "stream",
     "text": [
      "  0%|          | 0/1 [00:00<?, ?it/s]"
     ]
    },
    {
     "name": "stderr",
     "output_type": "stream",
     "text": [
      "100%|██████████| 1/1 [00:06<00:00,  6.13s/it]\n"
     ]
    }
   ],
   "source": [
    "\n",
    "# Generate explanation\n",
    "sample_idx = 4  # Choose any index from x_test\n",
    "sample = x_test[sample_idx:sample_idx+1]  # Keep sample as a batch\n",
    "shap_values = explainer(sample)"
   ]
  },
  {
   "cell_type": "code",
   "execution_count": 81,
   "metadata": {},
   "outputs": [
    {
     "data": {
      "text/plain": [
       "0"
      ]
     },
     "execution_count": 81,
     "metadata": {},
     "output_type": "execute_result"
    }
   ],
   "source": [
    "predicted_class = model.predict(sample)\n",
    "predicted_class = predicted_class.item()\n",
    "predicted_class"
   ]
  },
  {
   "cell_type": "code",
   "execution_count": null,
   "metadata": {},
   "outputs": [
    {
     "data": {
      "image/png": "[encoded data removed]",
      "text/plain": [
       "<Figure size 800x650 with 3 Axes>"
      ]
     },
     "metadata": {},
     "output_type": "display_data"
    }
   ],
   "source": [
    "shap.plots.waterfall(shap_values[0,:,predicted_class])"
   ]
  },
  {
   "cell_type": "code",
   "execution_count": 83,
   "metadata": {},
   "outputs": [
    {
     "data": {
      "text/plain": [
       "array([ 0.06075911, -0.02544865, -0.00828133,  0.0457333 ,  0.00778318,\n",
       "        0.00702685,  0.00100019, -0.02775292, -0.00637734, -0.00107813,\n",
       "        0.        ,  0.        ,  0.        ,  0.00652327,  0.        ,\n",
       "        0.00069853,  0.        ,  0.        ,  0.        ,  0.        ,\n",
       "        0.        ,  0.        ,  0.        ,  0.        ,  0.        ,\n",
       "        0.        ,  0.        , -0.07884485,  0.        , -0.010478  ,\n",
       "        0.        ,  0.        ,  0.        , -0.00292717, -0.01855544,\n",
       "        0.        ,  0.04947725,  0.        ,  0.15491603,  0.        ,\n",
       "        0.        , -0.00236853,  0.        ,  0.        ,  0.        ,\n",
       "        0.00341925,  0.        ,  0.        ,  0.        ,  0.        ,\n",
       "        0.        ,  0.00436803,  0.        ,  0.03184863,  0.        ,\n",
       "        0.        , -0.01305926, -0.00509286,  0.        ,  0.11856886,\n",
       "       -0.00561667,  0.00226586,  0.        ,  0.        ,  0.09834321,\n",
       "        0.        , -0.02689701, -0.02634982,  0.00338757,  0.        ,\n",
       "        0.        ,  0.        ,  0.        ,  0.        ,  0.        ,\n",
       "        0.        ,  0.        ,  0.        ,  0.        ,  0.        ,\n",
       "        0.        ,  0.        ,  0.        ,  0.        ,  0.        ,\n",
       "        0.        ,  0.        ,  0.        ,  0.        ,  0.        ,\n",
       "        0.        ,  0.        ,  0.        ,  0.        ,  0.        ,\n",
       "        0.        ,  0.        ,  0.        ,  0.        ,  0.        ,\n",
       "        0.        ,  0.        ,  0.        ,  0.        ,  0.        ,\n",
       "        0.        ,  0.        ,  0.        ,  0.        ,  0.        ,\n",
       "        0.        ])"
      ]
     },
     "execution_count": 83,
     "metadata": {},
     "output_type": "execute_result"
    }
   ],
   "source": [
    "shap_values[0,:,predicted_class].values"
   ]
  }
 ],
 "metadata": {
  "kernelspec": {
   "display_name": ".venv",
   "language": "python",
   "name": "python3"
  },
  "language_info": {
   "codemirror_mode": {
    "name": "ipython",
    "version": 3
   },
   "file_extension": ".py",
   "mimetype": "text/x-python",
   "name": "python",
   "nbconvert_exporter": "python",
   "pygments_lexer": "ipython3",
   "version": "3.10.12"
  }
 },
 "nbformat": 4,
 "nbformat_minor": 2
}
