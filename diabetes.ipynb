{
 "cells": [
  {
   "cell_type": "code",
   "execution_count": null,
   "metadata": {},
   "outputs": [],
   "source": [
    "import pandas as pd\n",
    "from sklearn.linear_model import LogisticRegression\n",
    "from sklearn.model_selection import train_test_split\n",
    "from sklearn.metrics import accuracy_score\n",
    "import imodels\n",
    "import numpy as np\n",
    "from sklearn.preprocessing import LabelEncoder\n",
    "from imblearn.over_sampling import SMOTE\n",
    "from imblearn.under_sampling import RandomUnderSampler\n",
    "from collections import Counter\n",
    "from sklearn.preprocessing import StandardScaler\n",
    "import torch\n",
    "from torch.utils.data import DataLoader\n",
    "from torch.utils.data import TensorDataset"
   ]
  },
  {
   "cell_type": "markdown",
   "metadata": {},
   "source": [
    "# Prepare the data\n",
    "\n",
    "The data can be downloaded from Hugging face: https://huggingface.co/datasets/imodels/diabetes-readmission/tree/main "
   ]
  },
  {
   "cell_type": "code",
   "execution_count": 2,
   "metadata": {},
   "outputs": [],
   "source": [
    "df = pd.read_csv(\"./data/diabetes/diabetic_data.csv\")\n",
    "\n",
    "# Drop columns with too many unique values or low relevance for prediction\n",
    "drop_columns = [\n",
    "    \"encounter_id\",\n",
    "    \"patient_nbr\",\n",
    "    \"weight\",\n",
    "    \"payer_code\",\n",
    "    \"medical_specialty\",\n",
    "]\n",
    "\n",
    "df.drop(columns=drop_columns, inplace=True)\n",
    "\n",
    "# Handling missing values\n",
    "df.replace(\"?\", np.nan, inplace=True)\n",
    "df.fillna(df.mode().iloc[0], inplace=True)\n",
    "\n",
    "# Encode the 'readmitted' column as binary target variable\n",
    "df[\"readmitted\"] = df[\"readmitted\"].apply(lambda x: 1 if x == \"<30\" else 0)\n",
    "\n",
    "\n",
    "# Encode categorical features\n",
    "categorical_features = df.select_dtypes(include=[\"object\"]).columns\n",
    "for col in categorical_features:\n",
    "    df[col] = LabelEncoder().fit_transform(df[col])\n"
   ]
  },
  {
   "cell_type": "code",
   "execution_count": 3,
   "metadata": {},
   "outputs": [
    {
     "data": {
      "text/plain": [
       "readmitted\n",
       "0    90409\n",
       "1    11357\n",
       "Name: count, dtype: int64"
      ]
     },
     "execution_count": 3,
     "metadata": {},
     "output_type": "execute_result"
    }
   ],
   "source": [
    "df[\"readmitted\"].value_counts()"
   ]
  },
  {
   "cell_type": "code",
   "execution_count": 4,
   "metadata": {},
   "outputs": [],
   "source": [
    "# undersample and oversample the data\n",
    "y = df[\"readmitted\"]\n",
    "X = df.drop(columns=[\"readmitted\"])\n",
    "\n",
    "x_train, x_test, y_train, y_test = train_test_split(\n",
    "    X, y, test_size=0.2, random_state=42\n",
    ")"
   ]
  },
  {
   "cell_type": "code",
   "execution_count": 5,
   "metadata": {},
   "outputs": [],
   "source": [
    "# Standardize numerical features fitting the scaler with the training data\n",
    "scaler = StandardScaler()\n",
    "x_train = scaler.fit_transform(x_train)\n",
    "x_test = scaler.transform(x_test)"
   ]
  },
  {
   "cell_type": "code",
   "execution_count": 6,
   "metadata": {},
   "outputs": [
    {
     "name": "stdout",
     "output_type": "stream",
     "text": [
      "After SMOTE: Counter({0: 72340, 1: 36170})\n",
      "Final class distribution after undersampling: Counter({0: 36170, 1: 36170})\n",
      "Final class distribution of test set: Counter({0: 18069, 1: 2285})\n"
     ]
    }
   ],
   "source": [
    "smote = SMOTE(sampling_strategy=0.50, random_state=42)\n",
    "X_smote, y_smote = smote.fit_resample(x_train, y_train)\n",
    "\n",
    "minority_class_count = Counter(y_smote)[1]\n",
    "under_sampler = RandomUnderSampler(sampling_strategy={0: minority_class_count})\n",
    "X_balanced, y_balanced = under_sampler.fit_resample(X_smote, y_smote)\n",
    "\n",
    "print(\"Final class distribution after undersampling:\", Counter(y_balanced))\n",
    "print(\"Final class distribution of test set:\", Counter(y_test))"
   ]
  },
  {
   "cell_type": "markdown",
   "metadata": {},
   "source": [
    "# Classification"
   ]
  },
  {
   "cell_type": "code",
   "execution_count": 7,
   "metadata": {},
   "outputs": [
    {
     "name": "stdout",
     "output_type": "stream",
     "text": [
      "Accuracy: 0.6442468310897121\n"
     ]
    }
   ],
   "source": [
    "# classify with a simple logistic regression model\n",
    "model = LogisticRegression(random_state=42)\n",
    "model.fit(X_balanced, y_balanced)\n",
    "y_pred = model.predict(x_test)\n",
    "accuracy = accuracy_score(y_test, y_pred)\n",
    "print(f\"Accuracy: {accuracy}\")"
   ]
  },
  {
   "cell_type": "code",
   "execution_count": 8,
   "metadata": {},
   "outputs": [
    {
     "name": "stdout",
     "output_type": "stream",
     "text": [
      "Accuracy of majority class classifier: 0.887737054141692\n"
     ]
    }
   ],
   "source": [
    "# Compare with a majority class classifier that always predicts 0\n",
    "y_pred_majority = np.zeros(y_test.shape)\n",
    "accuracy_majority = accuracy_score(y_test, y_pred_majority)\n",
    "print(f\"Accuracy of majority class classifier: {accuracy_majority}\")"
   ]
  },
  {
   "cell_type": "code",
   "execution_count": null,
   "metadata": {},
   "outputs": [],
   "source": []
  }
 ],
 "metadata": {
  "kernelspec": {
   "display_name": ".venv",
   "language": "python",
   "name": "python3"
  },
  "language_info": {
   "codemirror_mode": {
    "name": "ipython",
    "version": 3
   },
   "file_extension": ".py",
   "mimetype": "text/x-python",
   "name": "python",
   "nbconvert_exporter": "python",
   "pygments_lexer": "ipython3",
   "version": "3.10.12"
  }
 },
 "nbformat": 4,
 "nbformat_minor": 2
}
