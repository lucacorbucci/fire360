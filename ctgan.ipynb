{
 "cells": [
  {
   "cell_type": "code",
   "execution_count": null,
   "metadata": {
    "vscode": {
     "languageId": "plaintext"
    }
   },
   "outputs": [],
   "source": [
    "from ctgan import CTGAN\n",
    "from ctgan import load_demo\n",
    "\n",
    "real_data = load_demo()\n",
    "\n",
    "# Names of the columns that are discrete\n",
    "discrete_columns = [\n",
    "    'workclass',\n",
    "    'education',\n",
    "    'marital-status',\n",
    "    'occupation',\n",
    "    'relationship',\n",
    "    'race',\n",
    "    'sex',\n",
    "    'native-country',\n",
    "    'income'\n",
    "]\n",
    "\n",
    "ctgan = CTGAN(epochs=10)\n",
    "ctgan.fit(real_data, discrete_columns)\n",
    "\n",
    "# Create synthetic data\n",
    "synthetic_data = ctgan.sample(1000)"
   ]
  }
 ],
 "metadata": {
  "language_info": {
   "name": "python"
  }
 },
 "nbformat": 4,
 "nbformat_minor": 2
}
