{
 "cells": [
  {
   "cell_type": "code",
   "execution_count": 1,
   "metadata": {},
   "outputs": [
    {
     "name": "stderr",
     "output_type": "stream",
     "text": [
      "/home/lcorbucci/personalized_explanations/.venv/lib/python3.10/site-packages/tqdm/auto.py:21: TqdmWarning: IProgress not found. Please update jupyter and ipywidgets. See https://ipywidgets.readthedocs.io/en/stable/user_install.html\n",
      "  from .autonotebook import tqdm as notebook_tqdm\n"
     ]
    },
    {
     "name": "stdout",
     "output_type": "stream",
     "text": [
      "[KeOps] Warning : Cuda libraries were not detected on the system or could not be loaded ; using cpu only mode\n"
     ]
    }
   ],
   "source": [
    "from synthcity.metrics.eval_sanity import (\n",
    "    NearestSyntheticNeighborDistance,\n",
    ")\n",
    "import dill\n",
    "from synthcity.plugins.core.dataloader import GenericDataLoader\n",
    "from pathlib import Path\n",
    "import pandas as pd\n",
    "from utils import prepare_adult\n",
    "from sklearn.impute import SimpleImputer\n",
    "import pandas as pd\n",
    "from synthcity.metrics.eval_statistical import ChiSquaredTest"
   ]
  },
  {
   "cell_type": "code",
   "execution_count": 2,
   "metadata": {},
   "outputs": [],
   "source": [
    "def get_real_data(dataset_name: str) -> tuple[pd.DataFrame, str]:\n",
    "    \"\"\"\n",
    "    Get the preprocessed real data based on the dataset name. We will use\n",
    "    these data to train the synthesizer and evaluate the quality of the synthetic data\n",
    "\n",
    "    Args:\n",
    "        dataset_name: The name of the dataset to use\n",
    "\n",
    "    Returns:\n",
    "        real_data: The preprocessed real data\n",
    "        outcome_variable: The outcome variable of the dataset\n",
    "\n",
    "    \"\"\"\n",
    "    current_script_path = Path(\"./\")\n",
    "    match dataset_name:\n",
    "        case \"adult\":\n",
    "            _, _, _, _, _, _, real_data, _ = prepare_adult(sweep=False, seed=42, current_path=current_script_path)\n",
    "            outcome_variable = \"income_binary\"\n",
    "        case _:\n",
    "            msg = \"Invalid dataset name\"\n",
    "            raise ValueError(msg)\n",
    "    return real_data, outcome_variable"
   ]
  },
  {
   "cell_type": "code",
   "execution_count": 3,
   "metadata": {},
   "outputs": [],
   "source": [
    "# with Path(f\"./artifacts/adult/synthesizer/synthesizer_tvae_1000.pkl\").open(\"rb\") as f:\n",
    "#     synthesizer = dill.load(f)"
   ]
  },
  {
   "cell_type": "code",
   "execution_count": 4,
   "metadata": {},
   "outputs": [],
   "source": [
    "# generated_dataset_size = 10000\n",
    "# synthetic_data = synthesizer.sample(num_rows=generated_dataset_size)\n",
    "\n",
    "real_data, outcome_variable = get_real_data(\"adult\")"
   ]
  },
  {
   "cell_type": "code",
   "execution_count": 5,
   "metadata": {},
   "outputs": [
    {
     "data": {
      "text/plain": [
       "True"
      ]
     },
     "execution_count": 5,
     "metadata": {},
     "output_type": "execute_result"
    }
   ],
   "source": [
    "# check if \"object\" type columns are present in the real data\n",
    "has_object = real_data.select_dtypes(include=[\"object\"]).shape[1] > 0\n",
    "has_object"
   ]
  },
  {
   "cell_type": "code",
   "execution_count": null,
   "metadata": {},
   "outputs": [
    {
     "name": "stdout",
     "output_type": "stream",
     "text": [
      "age               0\n",
      "workclass         0\n",
      "fnlwgt            0\n",
      "education         0\n",
      "education-num     0\n",
      "marital-status    0\n",
      "occupation        0\n",
      "relationship      0\n",
      "race              0\n",
      "sex               0\n",
      "capital-gain      0\n",
      "capital-loss      0\n",
      "hours-per-week    0\n",
      "native-country    0\n",
      "sex_binary        0\n",
      "race_binary       0\n",
      "age_binary        0\n",
      "income_binary     0\n",
      "dtype: int64\n"
     ]
    }
   ],
   "source": [
    "missing_values = real_data.isnull().sum()\n",
    "print(missing_values)"
   ]
  },
  {
   "cell_type": "code",
   "execution_count": 7,
   "metadata": {},
   "outputs": [],
   "source": [
    "# real_data = real_data.apply(pd.to_numeric, errors=\"coerce\")\n",
    "# synthetic_data = synthetic_data.apply(pd.to_numeric, errors=\"coerce\")"
   ]
  },
  {
   "cell_type": "code",
   "execution_count": 8,
   "metadata": {},
   "outputs": [],
   "source": [
    "# original_dataloader = GenericDataLoader(data=real_data, target_column=outcome_variable)\n",
    "# synth_dataloader = GenericDataLoader(data=synthetic_data, target_column=outcome_variable)\n",
    "# metrics: dict[str, dict[str, float | dict[str, float]]] = {}"
   ]
  },
  {
   "cell_type": "code",
   "execution_count": 9,
   "metadata": {},
   "outputs": [],
   "source": [
    "# chi_squared_test = ChiSquaredTest()\n",
    "# chi_squared_test.evaluate(X_gt=original_dataloader, X_syn=synth_dataloader)[\"marginal\"]"
   ]
  },
  {
   "cell_type": "code",
   "execution_count": 11,
   "metadata": {},
   "outputs": [],
   "source": [
    "# open synthetic data\n",
    "synthetic_data = pd.read_csv(\"./artifacts/adult/synthetic_data/synthetic_data_10000_epochs_1000_synthethizer_name_tvae.csv\")"
   ]
  },
  {
   "cell_type": "code",
   "execution_count": 12,
   "metadata": {},
   "outputs": [
    {
     "name": "stdout",
     "output_type": "stream",
     "text": [
      "age                   0\n",
      "workclass         10000\n",
      "fnlwgt                0\n",
      "education         10000\n",
      "education-num         0\n",
      "marital-status    10000\n",
      "occupation        10000\n",
      "relationship      10000\n",
      "race              10000\n",
      "sex               10000\n",
      "capital-gain          0\n",
      "capital-loss          0\n",
      "hours-per-week        0\n",
      "native-country    10000\n",
      "sex_binary            0\n",
      "race_binary           0\n",
      "age_binary            0\n",
      "income_binary         0\n",
      "dtype: int64\n"
     ]
    }
   ],
   "source": [
    "missing_values = synthetic_data.isnull().sum()\n",
    "print(missing_values)"
   ]
  },
  {
   "cell_type": "code",
   "execution_count": null,
   "metadata": {},
   "outputs": [],
   "source": []
  }
 ],
 "metadata": {
  "kernelspec": {
   "display_name": ".venv",
   "language": "python",
   "name": "python3"
  },
  "language_info": {
   "codemirror_mode": {
    "name": "ipython",
    "version": 3
   },
   "file_extension": ".py",
   "mimetype": "text/x-python",
   "name": "python",
   "nbconvert_exporter": "python",
   "pygments_lexer": "ipython3",
   "version": "3.10.12"
  }
 },
 "nbformat": 4,
 "nbformat_minor": 2
}
